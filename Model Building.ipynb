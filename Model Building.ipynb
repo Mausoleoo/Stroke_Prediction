{
 "cells": [
  {
   "cell_type": "code",
   "execution_count": 2,
   "id": "e14fcb5a",
   "metadata": {},
   "outputs": [],
   "source": [
    "import pandas as pd\n",
    "import matplotlib.pyplot as plt\n",
    "import numpy as np\n",
    "import seaborn as sns"
   ]
  },
  {
   "cell_type": "code",
   "execution_count": 3,
   "id": "dd305975",
   "metadata": {},
   "outputs": [],
   "source": [
    "import warnings\n",
    "warnings.filterwarnings('ignore')"
   ]
  },
  {
   "cell_type": "code",
   "execution_count": 249,
   "id": "1bf3dc9a",
   "metadata": {},
   "outputs": [],
   "source": [
    "df = pd.read_csv('healthcare-dataset-stroke-data-cleaned.csv')"
   ]
  },
  {
   "cell_type": "code",
   "execution_count": 7,
   "id": "1e58cb41",
   "metadata": {},
   "outputs": [
    {
     "data": {
      "text/html": [
       "<div>\n",
       "<style scoped>\n",
       "    .dataframe tbody tr th:only-of-type {\n",
       "        vertical-align: middle;\n",
       "    }\n",
       "\n",
       "    .dataframe tbody tr th {\n",
       "        vertical-align: top;\n",
       "    }\n",
       "\n",
       "    .dataframe thead th {\n",
       "        text-align: right;\n",
       "    }\n",
       "</style>\n",
       "<table border=\"1\" class=\"dataframe\">\n",
       "  <thead>\n",
       "    <tr style=\"text-align: right;\">\n",
       "      <th></th>\n",
       "      <th>gender</th>\n",
       "      <th>age</th>\n",
       "      <th>hypertension</th>\n",
       "      <th>heart_disease</th>\n",
       "      <th>ever_married</th>\n",
       "      <th>work_type</th>\n",
       "      <th>Residence_type</th>\n",
       "      <th>avg_glucose_level</th>\n",
       "      <th>bmi</th>\n",
       "      <th>smoking_status</th>\n",
       "      <th>stroke</th>\n",
       "    </tr>\n",
       "  </thead>\n",
       "  <tbody>\n",
       "    <tr>\n",
       "      <th>0</th>\n",
       "      <td>Male</td>\n",
       "      <td>67.0</td>\n",
       "      <td>0</td>\n",
       "      <td>1</td>\n",
       "      <td>Yes</td>\n",
       "      <td>Private</td>\n",
       "      <td>Urban</td>\n",
       "      <td>228.69</td>\n",
       "      <td>36.6</td>\n",
       "      <td>formerly smoked</td>\n",
       "      <td>1</td>\n",
       "    </tr>\n",
       "    <tr>\n",
       "      <th>1</th>\n",
       "      <td>Male</td>\n",
       "      <td>80.0</td>\n",
       "      <td>0</td>\n",
       "      <td>1</td>\n",
       "      <td>Yes</td>\n",
       "      <td>Private</td>\n",
       "      <td>Rural</td>\n",
       "      <td>105.92</td>\n",
       "      <td>32.5</td>\n",
       "      <td>never smoked</td>\n",
       "      <td>1</td>\n",
       "    </tr>\n",
       "    <tr>\n",
       "      <th>2</th>\n",
       "      <td>Female</td>\n",
       "      <td>49.0</td>\n",
       "      <td>0</td>\n",
       "      <td>0</td>\n",
       "      <td>Yes</td>\n",
       "      <td>Private</td>\n",
       "      <td>Urban</td>\n",
       "      <td>171.23</td>\n",
       "      <td>34.4</td>\n",
       "      <td>smokes</td>\n",
       "      <td>1</td>\n",
       "    </tr>\n",
       "    <tr>\n",
       "      <th>3</th>\n",
       "      <td>Female</td>\n",
       "      <td>79.0</td>\n",
       "      <td>1</td>\n",
       "      <td>0</td>\n",
       "      <td>Yes</td>\n",
       "      <td>Self-employed</td>\n",
       "      <td>Rural</td>\n",
       "      <td>174.12</td>\n",
       "      <td>24.0</td>\n",
       "      <td>never smoked</td>\n",
       "      <td>1</td>\n",
       "    </tr>\n",
       "    <tr>\n",
       "      <th>4</th>\n",
       "      <td>Male</td>\n",
       "      <td>81.0</td>\n",
       "      <td>0</td>\n",
       "      <td>0</td>\n",
       "      <td>Yes</td>\n",
       "      <td>Private</td>\n",
       "      <td>Urban</td>\n",
       "      <td>186.21</td>\n",
       "      <td>29.0</td>\n",
       "      <td>formerly smoked</td>\n",
       "      <td>1</td>\n",
       "    </tr>\n",
       "  </tbody>\n",
       "</table>\n",
       "</div>"
      ],
      "text/plain": [
       "   gender   age  hypertension  heart_disease ever_married      work_type  \\\n",
       "0    Male  67.0             0              1          Yes        Private   \n",
       "1    Male  80.0             0              1          Yes        Private   \n",
       "2  Female  49.0             0              0          Yes        Private   \n",
       "3  Female  79.0             1              0          Yes  Self-employed   \n",
       "4    Male  81.0             0              0          Yes        Private   \n",
       "\n",
       "  Residence_type  avg_glucose_level   bmi   smoking_status  stroke  \n",
       "0          Urban             228.69  36.6  formerly smoked       1  \n",
       "1          Rural             105.92  32.5     never smoked       1  \n",
       "2          Urban             171.23  34.4           smokes       1  \n",
       "3          Rural             174.12  24.0     never smoked       1  \n",
       "4          Urban             186.21  29.0  formerly smoked       1  "
      ]
     },
     "execution_count": 7,
     "metadata": {},
     "output_type": "execute_result"
    }
   ],
   "source": [
    "df.head()"
   ]
  },
  {
   "cell_type": "markdown",
   "id": "0ae337af",
   "metadata": {},
   "source": [
    "### Categorical to Dummy"
   ]
  },
  {
   "cell_type": "code",
   "execution_count": 153,
   "id": "ba4ccc66",
   "metadata": {},
   "outputs": [],
   "source": [
    "df_dum = pd.get_dummies(df)"
   ]
  },
  {
   "cell_type": "code",
   "execution_count": 30,
   "id": "88a8605f",
   "metadata": {},
   "outputs": [
    {
     "data": {
      "text/html": [
       "<div>\n",
       "<style scoped>\n",
       "    .dataframe tbody tr th:only-of-type {\n",
       "        vertical-align: middle;\n",
       "    }\n",
       "\n",
       "    .dataframe tbody tr th {\n",
       "        vertical-align: top;\n",
       "    }\n",
       "\n",
       "    .dataframe thead th {\n",
       "        text-align: right;\n",
       "    }\n",
       "</style>\n",
       "<table border=\"1\" class=\"dataframe\">\n",
       "  <thead>\n",
       "    <tr style=\"text-align: right;\">\n",
       "      <th></th>\n",
       "      <th>age</th>\n",
       "      <th>hypertension</th>\n",
       "      <th>heart_disease</th>\n",
       "      <th>avg_glucose_level</th>\n",
       "      <th>bmi</th>\n",
       "      <th>stroke</th>\n",
       "      <th>gender_Female</th>\n",
       "      <th>gender_Male</th>\n",
       "      <th>gender_Other</th>\n",
       "      <th>ever_married_No</th>\n",
       "      <th>...</th>\n",
       "      <th>work_type_Never_worked</th>\n",
       "      <th>work_type_Private</th>\n",
       "      <th>work_type_Self-employed</th>\n",
       "      <th>work_type_children</th>\n",
       "      <th>Residence_type_Rural</th>\n",
       "      <th>Residence_type_Urban</th>\n",
       "      <th>smoking_status_Unknown</th>\n",
       "      <th>smoking_status_formerly smoked</th>\n",
       "      <th>smoking_status_never smoked</th>\n",
       "      <th>smoking_status_smokes</th>\n",
       "    </tr>\n",
       "  </thead>\n",
       "  <tbody>\n",
       "    <tr>\n",
       "      <th>0</th>\n",
       "      <td>67.0</td>\n",
       "      <td>0</td>\n",
       "      <td>1</td>\n",
       "      <td>228.69</td>\n",
       "      <td>36.6</td>\n",
       "      <td>1</td>\n",
       "      <td>0</td>\n",
       "      <td>1</td>\n",
       "      <td>0</td>\n",
       "      <td>0</td>\n",
       "      <td>...</td>\n",
       "      <td>0</td>\n",
       "      <td>1</td>\n",
       "      <td>0</td>\n",
       "      <td>0</td>\n",
       "      <td>0</td>\n",
       "      <td>1</td>\n",
       "      <td>0</td>\n",
       "      <td>1</td>\n",
       "      <td>0</td>\n",
       "      <td>0</td>\n",
       "    </tr>\n",
       "    <tr>\n",
       "      <th>1</th>\n",
       "      <td>80.0</td>\n",
       "      <td>0</td>\n",
       "      <td>1</td>\n",
       "      <td>105.92</td>\n",
       "      <td>32.5</td>\n",
       "      <td>1</td>\n",
       "      <td>0</td>\n",
       "      <td>1</td>\n",
       "      <td>0</td>\n",
       "      <td>0</td>\n",
       "      <td>...</td>\n",
       "      <td>0</td>\n",
       "      <td>1</td>\n",
       "      <td>0</td>\n",
       "      <td>0</td>\n",
       "      <td>1</td>\n",
       "      <td>0</td>\n",
       "      <td>0</td>\n",
       "      <td>0</td>\n",
       "      <td>1</td>\n",
       "      <td>0</td>\n",
       "    </tr>\n",
       "    <tr>\n",
       "      <th>2</th>\n",
       "      <td>49.0</td>\n",
       "      <td>0</td>\n",
       "      <td>0</td>\n",
       "      <td>171.23</td>\n",
       "      <td>34.4</td>\n",
       "      <td>1</td>\n",
       "      <td>1</td>\n",
       "      <td>0</td>\n",
       "      <td>0</td>\n",
       "      <td>0</td>\n",
       "      <td>...</td>\n",
       "      <td>0</td>\n",
       "      <td>1</td>\n",
       "      <td>0</td>\n",
       "      <td>0</td>\n",
       "      <td>0</td>\n",
       "      <td>1</td>\n",
       "      <td>0</td>\n",
       "      <td>0</td>\n",
       "      <td>0</td>\n",
       "      <td>1</td>\n",
       "    </tr>\n",
       "    <tr>\n",
       "      <th>3</th>\n",
       "      <td>79.0</td>\n",
       "      <td>1</td>\n",
       "      <td>0</td>\n",
       "      <td>174.12</td>\n",
       "      <td>24.0</td>\n",
       "      <td>1</td>\n",
       "      <td>1</td>\n",
       "      <td>0</td>\n",
       "      <td>0</td>\n",
       "      <td>0</td>\n",
       "      <td>...</td>\n",
       "      <td>0</td>\n",
       "      <td>0</td>\n",
       "      <td>1</td>\n",
       "      <td>0</td>\n",
       "      <td>1</td>\n",
       "      <td>0</td>\n",
       "      <td>0</td>\n",
       "      <td>0</td>\n",
       "      <td>1</td>\n",
       "      <td>0</td>\n",
       "    </tr>\n",
       "    <tr>\n",
       "      <th>4</th>\n",
       "      <td>81.0</td>\n",
       "      <td>0</td>\n",
       "      <td>0</td>\n",
       "      <td>186.21</td>\n",
       "      <td>29.0</td>\n",
       "      <td>1</td>\n",
       "      <td>0</td>\n",
       "      <td>1</td>\n",
       "      <td>0</td>\n",
       "      <td>0</td>\n",
       "      <td>...</td>\n",
       "      <td>0</td>\n",
       "      <td>1</td>\n",
       "      <td>0</td>\n",
       "      <td>0</td>\n",
       "      <td>0</td>\n",
       "      <td>1</td>\n",
       "      <td>0</td>\n",
       "      <td>1</td>\n",
       "      <td>0</td>\n",
       "      <td>0</td>\n",
       "    </tr>\n",
       "  </tbody>\n",
       "</table>\n",
       "<p>5 rows × 22 columns</p>\n",
       "</div>"
      ],
      "text/plain": [
       "    age  hypertension  heart_disease  avg_glucose_level   bmi  stroke  \\\n",
       "0  67.0             0              1             228.69  36.6       1   \n",
       "1  80.0             0              1             105.92  32.5       1   \n",
       "2  49.0             0              0             171.23  34.4       1   \n",
       "3  79.0             1              0             174.12  24.0       1   \n",
       "4  81.0             0              0             186.21  29.0       1   \n",
       "\n",
       "   gender_Female  gender_Male  gender_Other  ever_married_No  ...  \\\n",
       "0              0            1             0                0  ...   \n",
       "1              0            1             0                0  ...   \n",
       "2              1            0             0                0  ...   \n",
       "3              1            0             0                0  ...   \n",
       "4              0            1             0                0  ...   \n",
       "\n",
       "   work_type_Never_worked  work_type_Private  work_type_Self-employed  \\\n",
       "0                       0                  1                        0   \n",
       "1                       0                  1                        0   \n",
       "2                       0                  1                        0   \n",
       "3                       0                  0                        1   \n",
       "4                       0                  1                        0   \n",
       "\n",
       "   work_type_children  Residence_type_Rural  Residence_type_Urban  \\\n",
       "0                   0                     0                     1   \n",
       "1                   0                     1                     0   \n",
       "2                   0                     0                     1   \n",
       "3                   0                     1                     0   \n",
       "4                   0                     0                     1   \n",
       "\n",
       "   smoking_status_Unknown  smoking_status_formerly smoked  \\\n",
       "0                       0                               1   \n",
       "1                       0                               0   \n",
       "2                       0                               0   \n",
       "3                       0                               0   \n",
       "4                       0                               1   \n",
       "\n",
       "   smoking_status_never smoked  smoking_status_smokes  \n",
       "0                            0                      0  \n",
       "1                            1                      0  \n",
       "2                            0                      1  \n",
       "3                            1                      0  \n",
       "4                            0                      0  \n",
       "\n",
       "[5 rows x 22 columns]"
      ]
     },
     "execution_count": 30,
     "metadata": {},
     "output_type": "execute_result"
    }
   ],
   "source": [
    "df_dum.head()"
   ]
  },
  {
   "cell_type": "code",
   "execution_count": 15,
   "id": "77ad65f4",
   "metadata": {},
   "outputs": [],
   "source": [
    "from sklearn.linear_model import LogisticRegression\n",
    "from sklearn.preprocessing import StandardScaler\n",
    "from sklearn.model_selection import train_test_split"
   ]
  },
  {
   "cell_type": "code",
   "execution_count": 250,
   "id": "f1e7c90d",
   "metadata": {
    "scrolled": true
   },
   "outputs": [],
   "source": [
    "X = df_dum.drop('stroke', axis = 1)\n",
    "y = df_dum.stroke.values"
   ]
  },
  {
   "cell_type": "code",
   "execution_count": 113,
   "id": "760fd68c",
   "metadata": {},
   "outputs": [],
   "source": [
    "X_train, X_test, y_train, y_test = train_test_split(X, y, test_size=0.2, random_state=42)"
   ]
  },
  {
   "cell_type": "markdown",
   "id": "f0fe6c71",
   "metadata": {},
   "source": [
    "ss = StandardScaler()\n",
    "X_train_scaled = ss.fit_transform(X_train)\n",
    "X_test_scaled = ss.transform(X_test)"
   ]
  },
  {
   "cell_type": "code",
   "execution_count": 57,
   "id": "58eae1e8",
   "metadata": {},
   "outputs": [],
   "source": [
    "LR = LogisticRegression()\n",
    "#LR.fit(X_train, y_train)"
   ]
  },
  {
   "cell_type": "code",
   "execution_count": 55,
   "id": "9abe8ef9",
   "metadata": {},
   "outputs": [],
   "source": [
    "importances = pd.DataFrame(data={\n",
    "    'Attribute': X_train.columns,\n",
    "    'Importance': model.coef_[0]})\n",
    "importances = importances.sort_values(by='Importance', ascending=False)"
   ]
  },
  {
   "cell_type": "code",
   "execution_count": 56,
   "id": "f214baa7",
   "metadata": {},
   "outputs": [
    {
     "data": {
      "image/png": "[encoded data removed]",
      "text/plain": [
       "<Figure size 432x288 with 1 Axes>"
      ]
     },
     "metadata": {
      "needs_background": "light"
     },
     "output_type": "display_data"
    }
   ],
   "source": [
    "plt.bar(x=importances['Attribute'], height=importances['Importance'], color='#087E8B')\n",
    "plt.title('Feature importances obtained from coefficients', size=20)\n",
    "plt.xticks(rotation='vertical')\n",
    "plt.show()"
   ]
  },
  {
   "cell_type": "code",
   "execution_count": 4,
   "id": "18fa5ff1",
   "metadata": {},
   "outputs": [],
   "source": [
    "from sklearn.model_selection import cross_val_score"
   ]
  },
  {
   "cell_type": "code",
   "execution_count": 63,
   "id": "554cee68",
   "metadata": {},
   "outputs": [
    {
     "data": {
      "text/plain": [
       "0.9604010547455276"
      ]
     },
     "execution_count": 63,
     "metadata": {},
     "output_type": "execute_result"
    }
   ],
   "source": [
    "np.mean(cross_val_score(LR, X_train, y_train, cv = 5))"
   ]
  },
  {
   "cell_type": "markdown",
   "id": "e9162ce5",
   "metadata": {},
   "source": [
    "### Tune Logistic Regression GridSearchCV"
   ]
  },
  {
   "cell_type": "code",
   "execution_count": 21,
   "id": "a44ba1ab",
   "metadata": {},
   "outputs": [],
   "source": [
    "from sklearn.model_selection import GridSearchCV"
   ]
  },
  {
   "cell_type": "code",
   "execution_count": 68,
   "id": "bc61a595",
   "metadata": {},
   "outputs": [],
   "source": [
    "parameters = {'solver':('lbfgs', 'liblinear', 'newton-cg', 'newton-cholesky', 'sag', 'saga'), 'penalty':('l1', 'l2', 'elasticnet', None), 'multi_class':('auto', 'ovr', 'multinomial')}"
   ]
  },
  {
   "cell_type": "code",
   "execution_count": 69,
   "id": "94fcdcee",
   "metadata": {},
   "outputs": [],
   "source": [
    "gs = GridSearchCV(LR, parameters, cv=5)"
   ]
  },
  {
   "cell_type": "code",
   "execution_count": 70,
   "id": "b2868051",
   "metadata": {},
   "outputs": [
    {
     "data": {
      "text/plain": [
       "GridSearchCV(cv=5, estimator=LogisticRegression(),\n",
       "             param_grid={'multi_class': ('auto', 'ovr', 'multinomial'),\n",
       "                         'penalty': ('l1', 'l2', 'elasticnet', None),\n",
       "                         'solver': ('lbfgs', 'liblinear', 'newton-cg',\n",
       "                                    'newton-cholesky', 'sag', 'saga')})"
      ]
     },
     "execution_count": 70,
     "metadata": {},
     "output_type": "execute_result"
    }
   ],
   "source": [
    "gs.fit(X_train, y_train)"
   ]
  },
  {
   "cell_type": "code",
   "execution_count": 71,
   "id": "aa84d6f2",
   "metadata": {},
   "outputs": [
    {
     "data": {
      "text/plain": [
       "0.9604010547455276"
      ]
     },
     "execution_count": 71,
     "metadata": {},
     "output_type": "execute_result"
    }
   ],
   "source": [
    "gs.best_score_"
   ]
  },
  {
   "cell_type": "code",
   "execution_count": 72,
   "id": "a7b11c7b",
   "metadata": {},
   "outputs": [
    {
     "data": {
      "text/plain": [
       "LogisticRegression(penalty='l1', solver='liblinear')"
      ]
     },
     "execution_count": 72,
     "metadata": {},
     "output_type": "execute_result"
    }
   ],
   "source": [
    "gs.best_estimator_"
   ]
  },
  {
   "cell_type": "code",
   "execution_count": 73,
   "id": "b509b187",
   "metadata": {},
   "outputs": [],
   "source": [
    "ypred_LR = gs.best_estimator_.predict(X_test)"
   ]
  },
  {
   "cell_type": "markdown",
   "id": "e12356fc",
   "metadata": {},
   "source": [
    "### Test Results Logistic Regression"
   ]
  },
  {
   "cell_type": "code",
   "execution_count": 41,
   "id": "1de8cb54",
   "metadata": {},
   "outputs": [],
   "source": [
    "from sklearn.metrics import confusion_matrix"
   ]
  },
  {
   "cell_type": "code",
   "execution_count": 77,
   "id": "5531fcd6",
   "metadata": {},
   "outputs": [],
   "source": [
    "cm = confusion_matrix(y_test, ypred_LR)"
   ]
  },
  {
   "cell_type": "code",
   "execution_count": 80,
   "id": "a1c26d52",
   "metadata": {},
   "outputs": [
    {
     "data": {
      "image/png": "[encoded data removed]",
      "text/plain": [
       "<Figure size 432x288 with 2 Axes>"
      ]
     },
     "metadata": {},
     "output_type": "display_data"
    }
   ],
   "source": [
    "ax = sns.heatmap(cm, annot=True, cmap='Blues')\n",
    "\n",
    "ax.set_title('Seaborn Confusion Matrix with labels\\n\\n');\n",
    "ax.set_xlabel('\\nPredicted Values')\n",
    "ax.set_ylabel('Actual Values ');\n",
    "\n",
    "## Ticket labels - List must be in alphabetical order\n",
    "ax.xaxis.set_ticklabels(['False','True'])\n",
    "ax.yaxis.set_ticklabels(['False','True'])\n",
    "\n",
    "## Display the visualization of the Confusion Matrix.\n",
    "plt.show()"
   ]
  },
  {
   "cell_type": "markdown",
   "id": "0c6083da",
   "metadata": {},
   "source": [
    "### Metrics Logistic Regression"
   ]
  },
  {
   "cell_type": "code",
   "execution_count": 5,
   "id": "eabdd3b0",
   "metadata": {},
   "outputs": [],
   "source": [
    "from sklearn.metrics import precision_score, recall_score, f1_score, accuracy_score"
   ]
  },
  {
   "cell_type": "code",
   "execution_count": 83,
   "id": "45a0746e",
   "metadata": {},
   "outputs": [
    {
     "name": "stdout",
     "output_type": "stream",
     "text": [
      "Precision\n"
     ]
    },
    {
     "data": {
      "text/plain": [
       "0.0"
      ]
     },
     "execution_count": 83,
     "metadata": {},
     "output_type": "execute_result"
    }
   ],
   "source": [
    "print(\"Precision\")\n",
    "precision_score(y_test, ypred_LR)"
   ]
  },
  {
   "cell_type": "code",
   "execution_count": 84,
   "id": "455b4e87",
   "metadata": {},
   "outputs": [
    {
     "name": "stdout",
     "output_type": "stream",
     "text": [
      "Recall\n"
     ]
    },
    {
     "data": {
      "text/plain": [
       "0.0"
      ]
     },
     "execution_count": 84,
     "metadata": {},
     "output_type": "execute_result"
    }
   ],
   "source": [
    "print(\"Recall\")\n",
    "recall_score(y_test, ypred_LR)"
   ]
  },
  {
   "cell_type": "code",
   "execution_count": 87,
   "id": "84212115",
   "metadata": {},
   "outputs": [
    {
     "name": "stdout",
     "output_type": "stream",
     "text": [
      "F1 Score\n"
     ]
    },
    {
     "data": {
      "text/plain": [
       "0.0"
      ]
     },
     "execution_count": 87,
     "metadata": {},
     "output_type": "execute_result"
    }
   ],
   "source": [
    "print(\"F1 Score\")\n",
    "f1_score(y_test, ypred_LR)"
   ]
  },
  {
   "cell_type": "code",
   "execution_count": 88,
   "id": "cf29ce7b",
   "metadata": {},
   "outputs": [
    {
     "name": "stdout",
     "output_type": "stream",
     "text": [
      "Accuracy\n"
     ]
    },
    {
     "data": {
      "text/plain": [
       "0.9445015416238438"
      ]
     },
     "execution_count": 88,
     "metadata": {},
     "output_type": "execute_result"
    }
   ],
   "source": [
    "print(\"Accuracy\")\n",
    "accuracy_score(y_test, ypred_LR)"
   ]
  },
  {
   "cell_type": "markdown",
   "id": "2e2a14f4",
   "metadata": {},
   "source": [
    "## Data Scaled Logistic Regression"
   ]
  },
  {
   "cell_type": "code",
   "execution_count": 89,
   "id": "9df189b8",
   "metadata": {},
   "outputs": [],
   "source": [
    "ss = StandardScaler()\n",
    "X_train_scaled = ss.fit_transform(X_train)\n",
    "X_test_scaled = ss.transform(X_test)"
   ]
  },
  {
   "cell_type": "code",
   "execution_count": 96,
   "id": "90fafb2f",
   "metadata": {},
   "outputs": [],
   "source": [
    "gs = GridSearchCV(LR, parameters, cv=5)"
   ]
  },
  {
   "cell_type": "code",
   "execution_count": 97,
   "id": "0f9c4cf4",
   "metadata": {},
   "outputs": [
    {
     "data": {
      "text/plain": [
       "GridSearchCV(cv=5, estimator=LogisticRegression(),\n",
       "             param_grid={'multi_class': ('auto', 'ovr', 'multinomial'),\n",
       "                         'penalty': ('l1', 'l2', 'elasticnet', None),\n",
       "                         'solver': ('lbfgs', 'liblinear', 'newton-cg',\n",
       "                                    'newton-cholesky', 'sag', 'saga')})"
      ]
     },
     "execution_count": 97,
     "metadata": {},
     "output_type": "execute_result"
    }
   ],
   "source": [
    "gs.fit(X_train_scaled, y_train)"
   ]
  },
  {
   "cell_type": "code",
   "execution_count": 98,
   "id": "b73d915c",
   "metadata": {},
   "outputs": [
    {
     "data": {
      "text/plain": [
       "0.9604010547455276"
      ]
     },
     "execution_count": 98,
     "metadata": {},
     "output_type": "execute_result"
    }
   ],
   "source": [
    "gs.best_score_"
   ]
  },
  {
   "cell_type": "code",
   "execution_count": 99,
   "id": "cedf6dc0",
   "metadata": {},
   "outputs": [
    {
     "data": {
      "text/plain": [
       "LogisticRegression(penalty='l1', solver='liblinear')"
      ]
     },
     "execution_count": 99,
     "metadata": {},
     "output_type": "execute_result"
    }
   ],
   "source": [
    "gs.best_estimator_"
   ]
  },
  {
   "cell_type": "code",
   "execution_count": 100,
   "id": "414c1b4f",
   "metadata": {},
   "outputs": [],
   "source": [
    "ypred_LR_Scaled = gs.best_estimator_.predict(X_test_scaled)"
   ]
  },
  {
   "cell_type": "markdown",
   "id": "1b080e1a",
   "metadata": {},
   "source": [
    "### Test Result Scaled"
   ]
  },
  {
   "cell_type": "code",
   "execution_count": 101,
   "id": "cfcf7542",
   "metadata": {},
   "outputs": [],
   "source": [
    "cm = confusion_matrix(y_test, ypred_LR_Scaled)"
   ]
  },
  {
   "cell_type": "code",
   "execution_count": 102,
   "id": "aab1532a",
   "metadata": {},
   "outputs": [
    {
     "data": {
      "image/png": "[encoded data removed]",
      "text/plain": [
       "<Figure size 432x288 with 2 Axes>"
      ]
     },
     "metadata": {},
     "output_type": "display_data"
    }
   ],
   "source": [
    "ax = sns.heatmap(cm, annot=True, cmap='Blues')\n",
    "\n",
    "ax.set_title('Seaborn Confusion Matrix with labels\\n\\n');\n",
    "ax.set_xlabel('\\nPredicted Values')\n",
    "ax.set_ylabel('Actual Values ');\n",
    "\n",
    "## Ticket labels - List must be in alphabetical order\n",
    "ax.xaxis.set_ticklabels(['False','True'])\n",
    "ax.yaxis.set_ticklabels(['False','True'])\n",
    "\n",
    "## Display the visualization of the Confusion Matrix.\n",
    "plt.show()"
   ]
  },
  {
   "cell_type": "code",
   "execution_count": 103,
   "id": "51651a1a",
   "metadata": {},
   "outputs": [
    {
     "name": "stdout",
     "output_type": "stream",
     "text": [
      "Precision\n",
      "0.0\n",
      "Recall\n",
      "0.0\n",
      "F1 Score\n",
      "0.0\n",
      "Accuracy\n",
      "0.9445015416238438\n"
     ]
    }
   ],
   "source": [
    "print(\"Precision\")\n",
    "print(precision_score(y_test, ypred_LR))\n",
    "print(\"Recall\")\n",
    "print(recall_score(y_test, ypred_LR))\n",
    "print(\"F1 Score\")\n",
    "print(f1_score(y_test, ypred_LR))\n",
    "print(\"Accuracy\")\n",
    "print(accuracy_score(y_test, ypred_LR))"
   ]
  },
  {
   "cell_type": "markdown",
   "id": "fe486822",
   "metadata": {},
   "source": [
    "### Support Vector Machine"
   ]
  },
  {
   "cell_type": "code",
   "execution_count": 46,
   "id": "8cb2d594",
   "metadata": {},
   "outputs": [],
   "source": [
    "from sklearn.svm import SVC"
   ]
  },
  {
   "cell_type": "code",
   "execution_count": 115,
   "id": "05b0d6aa",
   "metadata": {},
   "outputs": [],
   "source": [
    "clf = SVC()\n",
    "parameters = {'kernel':('linear', 'poly', 'rbf', 'sigmoid'), 'gamma':('scale', 'auto'), 'decision_function_shape':('ovo', 'ovr')}"
   ]
  },
  {
   "cell_type": "code",
   "execution_count": 116,
   "id": "59569080",
   "metadata": {},
   "outputs": [],
   "source": [
    "gs_SVC = GridSearchCV(clf, parameters)"
   ]
  },
  {
   "cell_type": "code",
   "execution_count": 117,
   "id": "eb2c4cd2",
   "metadata": {},
   "outputs": [
    {
     "data": {
      "text/plain": [
       "GridSearchCV(estimator=SVC(),\n",
       "             param_grid={'decision_function_shape': ('ovo', 'ovr'),\n",
       "                         'gamma': ('scale', 'auto'),\n",
       "                         'kernel': ('linear', 'poly', 'rbf', 'sigmoid')})"
      ]
     },
     "execution_count": 117,
     "metadata": {},
     "output_type": "execute_result"
    }
   ],
   "source": [
    "gs_SVC.fit(X_train, y_train)"
   ]
  },
  {
   "cell_type": "code",
   "execution_count": 118,
   "id": "d6f85809",
   "metadata": {},
   "outputs": [
    {
     "data": {
      "text/plain": [
       "0.9601439853367874"
      ]
     },
     "execution_count": 118,
     "metadata": {},
     "output_type": "execute_result"
    }
   ],
   "source": [
    "gs_SVC.best_score_"
   ]
  },
  {
   "cell_type": "code",
   "execution_count": 119,
   "id": "8b85a11f",
   "metadata": {},
   "outputs": [
    {
     "data": {
      "text/plain": [
       "SVC(decision_function_shape='ovo', kernel='linear')"
      ]
     },
     "execution_count": 119,
     "metadata": {},
     "output_type": "execute_result"
    }
   ],
   "source": [
    "gs_SVC.best_estimator_"
   ]
  },
  {
   "cell_type": "markdown",
   "id": "ff067ea4",
   "metadata": {},
   "source": [
    "### Test SVM"
   ]
  },
  {
   "cell_type": "code",
   "execution_count": 121,
   "id": "6fc29e45",
   "metadata": {},
   "outputs": [],
   "source": [
    "ypred_clf_gs = gs.best_estimator_.predict(X_test)"
   ]
  },
  {
   "cell_type": "code",
   "execution_count": 122,
   "id": "77322327",
   "metadata": {},
   "outputs": [],
   "source": [
    "cm = confusion_matrix(y_test, ypred_clf_gs)"
   ]
  },
  {
   "cell_type": "code",
   "execution_count": 123,
   "id": "d44016e9",
   "metadata": {},
   "outputs": [
    {
     "data": {
      "image/png": "[encoded data removed]",
      "text/plain": [
       "<Figure size 432x288 with 2 Axes>"
      ]
     },
     "metadata": {},
     "output_type": "display_data"
    }
   ],
   "source": [
    "ax = sns.heatmap(cm, annot=True, cmap='Blues')\n",
    "\n",
    "ax.set_title('Seaborn Confusion Matrix with labels\\n\\n');\n",
    "ax.set_xlabel('\\nPredicted Values')\n",
    "ax.set_ylabel('Actual Values ');\n",
    "\n",
    "## Ticket labels - List must be in alphabetical order\n",
    "ax.xaxis.set_ticklabels(['False','True'])\n",
    "ax.yaxis.set_ticklabels(['False','True'])\n",
    "\n",
    "## Display the visualization of the Confusion Matrix.\n",
    "plt.show()"
   ]
  },
  {
   "cell_type": "code",
   "execution_count": 126,
   "id": "04e55be8",
   "metadata": {},
   "outputs": [],
   "source": [
    "SVC_ = SVC(decision_function_shape='ovo', kernel='linear')"
   ]
  },
  {
   "cell_type": "code",
   "execution_count": 129,
   "id": "7f91ac8f",
   "metadata": {},
   "outputs": [
    {
     "data": {
      "text/plain": [
       "SVC(decision_function_shape='ovo', kernel='linear')"
      ]
     },
     "execution_count": 129,
     "metadata": {},
     "output_type": "execute_result"
    }
   ],
   "source": [
    "SVC_.fit(X_train, y_train)"
   ]
  },
  {
   "cell_type": "code",
   "execution_count": 127,
   "id": "954bd82b",
   "metadata": {},
   "outputs": [
    {
     "data": {
      "text/plain": [
       "array([0.96015424, 0.96015424, 0.96015424, 0.96015424, 0.96010296])"
      ]
     },
     "execution_count": 127,
     "metadata": {},
     "output_type": "execute_result"
    }
   ],
   "source": [
    "cross_val_score(SVC_, X_train, y_train, cv = 5)"
   ]
  },
  {
   "cell_type": "code",
   "execution_count": 130,
   "id": "652f3051",
   "metadata": {},
   "outputs": [],
   "source": [
    "ypred_SVC_ = SVC_.predict(X_test)"
   ]
  },
  {
   "cell_type": "code",
   "execution_count": 131,
   "id": "0aa95efb",
   "metadata": {},
   "outputs": [
    {
     "name": "stdout",
     "output_type": "stream",
     "text": [
      "Precision\n",
      "0.0\n",
      "Recall\n",
      "0.0\n",
      "F1 Score\n",
      "0.0\n",
      "Accuracy\n",
      "0.9445015416238438\n"
     ]
    }
   ],
   "source": [
    "print(\"Precision\")\n",
    "print(precision_score(y_test, ypred_SVC_))\n",
    "print(\"Recall\")\n",
    "print(recall_score(y_test, ypred_SVC_))\n",
    "print(\"F1 Score\")\n",
    "print(f1_score(y_test, ypred_SVC_))\n",
    "print(\"Accuracy\")\n",
    "print(accuracy_score(y_test, ypred_SVC_))"
   ]
  },
  {
   "cell_type": "markdown",
   "id": "c263006f",
   "metadata": {},
   "source": [
    "### Random Forest"
   ]
  },
  {
   "cell_type": "code",
   "execution_count": 18,
   "id": "ec8ecb3a",
   "metadata": {},
   "outputs": [],
   "source": [
    "from sklearn.ensemble import RandomForestClassifier"
   ]
  },
  {
   "cell_type": "code",
   "execution_count": 133,
   "id": "c5327221",
   "metadata": {},
   "outputs": [],
   "source": [
    "RF = RandomForestClassifier(n_estimators=100)\n",
    "\n",
    "#Train the model using the training sets y_pred=clf.predict(X_test)\n",
    "RF.fit(X_train,y_train)\n",
    "\n",
    "y_pred_RF=RF.predict(X_test)"
   ]
  },
  {
   "cell_type": "code",
   "execution_count": 135,
   "id": "07d6d9d8",
   "metadata": {},
   "outputs": [],
   "source": [
    "cm = confusion_matrix(y_test, y_pred_RF)"
   ]
  },
  {
   "cell_type": "code",
   "execution_count": 136,
   "id": "c3ecf556",
   "metadata": {},
   "outputs": [
    {
     "data": {
      "image/png": "[encoded data removed]",
      "text/plain": [
       "<Figure size 432x288 with 2 Axes>"
      ]
     },
     "metadata": {},
     "output_type": "display_data"
    }
   ],
   "source": [
    "ax = sns.heatmap(cm, annot=True, cmap='Blues')\n",
    "\n",
    "ax.set_title('Seaborn Confusion Matrix with labels\\n\\n');\n",
    "ax.set_xlabel('\\nPredicted Values')\n",
    "ax.set_ylabel('Actual Values ');\n",
    "\n",
    "## Ticket labels - List must be in alphabetical order\n",
    "ax.xaxis.set_ticklabels(['False','True'])\n",
    "ax.yaxis.set_ticklabels(['False','True'])\n",
    "\n",
    "## Display the visualization of the Confusion Matrix.\n",
    "plt.show()"
   ]
  },
  {
   "cell_type": "code",
   "execution_count": 134,
   "id": "7b6ccfbb",
   "metadata": {},
   "outputs": [
    {
     "name": "stdout",
     "output_type": "stream",
     "text": [
      "Precision\n",
      "0.5\n",
      "Recall\n",
      "0.018518518518518517\n",
      "F1 Score\n",
      "0.03571428571428571\n",
      "Accuracy\n",
      "0.9445015416238438\n"
     ]
    }
   ],
   "source": [
    "print(\"Precision\")\n",
    "print(precision_score(y_test, y_pred_RF))\n",
    "print(\"Recall\")\n",
    "print(recall_score(y_test, y_pred_RF))\n",
    "print(\"F1 Score\")\n",
    "print(f1_score(y_test, y_pred_RF))\n",
    "print(\"Accuracy\")\n",
    "print(accuracy_score(y_test, y_pred_RF))"
   ]
  },
  {
   "cell_type": "markdown",
   "id": "4cdf5041",
   "metadata": {},
   "source": [
    "#### Tune Random Forest"
   ]
  },
  {
   "cell_type": "code",
   "execution_count": 151,
   "id": "4a65d6ee",
   "metadata": {},
   "outputs": [],
   "source": [
    "RF = RandomForestClassifier()\n",
    "parameters = {'n_estimators':range(100,200,10), 'criterion':('gini', 'entropy', 'log_loss'), 'max_features':('sqrt', 'log2', None), 'class_weight':('balanced', 'balanced_subsample')}"
   ]
  },
  {
   "cell_type": "code",
   "execution_count": 152,
   "id": "a1680342",
   "metadata": {},
   "outputs": [],
   "source": [
    "gs = GridSearchCV(RF, parameters, cv=5, verbose=1)"
   ]
  },
  {
   "cell_type": "code",
   "execution_count": 153,
   "id": "671d93c1",
   "metadata": {},
   "outputs": [
    {
     "name": "stdout",
     "output_type": "stream",
     "text": [
      "Fitting 5 folds for each of 180 candidates, totalling 900 fits\n"
     ]
    },
    {
     "data": {
      "text/plain": [
       "GridSearchCV(cv=5, estimator=RandomForestClassifier(),\n",
       "             param_grid={'class_weight': ('balanced', 'balanced_subsample'),\n",
       "                         'criterion': ('gini', 'entropy', 'log_loss'),\n",
       "                         'max_features': ('sqrt', 'log2', None),\n",
       "                         'n_estimators': range(100, 200, 10)},\n",
       "             verbose=1)"
      ]
     },
     "execution_count": 153,
     "metadata": {},
     "output_type": "execute_result"
    }
   ],
   "source": [
    "gs.fit(X_train,y_train)"
   ]
  },
  {
   "cell_type": "code",
   "execution_count": 156,
   "id": "2a933704",
   "metadata": {},
   "outputs": [
    {
     "data": {
      "text/plain": [
       "0.9601439853367874"
      ]
     },
     "execution_count": 156,
     "metadata": {},
     "output_type": "execute_result"
    }
   ],
   "source": [
    "gs.best_score_"
   ]
  },
  {
   "cell_type": "code",
   "execution_count": 158,
   "id": "f5dc34d3",
   "metadata": {},
   "outputs": [],
   "source": [
    "ypred_RF = gs.best_estimator_.predict(X_test)"
   ]
  },
  {
   "cell_type": "code",
   "execution_count": 159,
   "id": "7bb4dea7",
   "metadata": {},
   "outputs": [],
   "source": [
    "cm = confusion_matrix(y_test, y_pred_RF)"
   ]
  },
  {
   "cell_type": "code",
   "execution_count": 160,
   "id": "c3df5b90",
   "metadata": {},
   "outputs": [
    {
     "data": {
      "image/png": "[encoded data removed]",
      "text/plain": [
       "<Figure size 432x288 with 2 Axes>"
      ]
     },
     "metadata": {},
     "output_type": "display_data"
    }
   ],
   "source": [
    "ax = sns.heatmap(cm, annot=True, cmap='Blues')\n",
    "\n",
    "ax.set_title('Seaborn Confusion Matrix with labels\\n\\n');\n",
    "ax.set_xlabel('\\nPredicted Values')\n",
    "ax.set_ylabel('Actual Values ');\n",
    "\n",
    "## Ticket labels - List must be in alphabetical order\n",
    "ax.xaxis.set_ticklabels(['False','True'])\n",
    "ax.yaxis.set_ticklabels(['False','True'])\n",
    "\n",
    "## Display the visualization of the Confusion Matrix.\n",
    "plt.show()"
   ]
  },
  {
   "cell_type": "markdown",
   "id": "807e2dc6",
   "metadata": {},
   "source": [
    "## Subsample "
   ]
  },
  {
   "cell_type": "code",
   "execution_count": 128,
   "id": "9f6ac2fd",
   "metadata": {},
   "outputs": [],
   "source": [
    "import random"
   ]
  },
  {
   "cell_type": "code",
   "execution_count": 202,
   "id": "b1b0c9c0",
   "metadata": {},
   "outputs": [],
   "source": [
    "df_stroke_1 = df_dum[df_dum['stroke'] == 1].reset_index().drop('index', axis = 1)\n",
    "df_stroke_0 = df_dum[df_dum['stroke'] == 0].reset_index().drop('index', axis = 1)"
   ]
  },
  {
   "cell_type": "code",
   "execution_count": 203,
   "id": "517e00f4",
   "metadata": {},
   "outputs": [],
   "source": [
    "for i in range(df_stroke_0.shape[0]):\n",
    "    ran = random.randint(0,20)\n",
    "    if ran != 5:\n",
    "        df_stroke_0 = df_stroke_0.drop(i)"
   ]
  },
  {
   "cell_type": "code",
   "execution_count": 204,
   "id": "9c98b588",
   "metadata": {},
   "outputs": [
    {
     "data": {
      "text/html": [
       "<div>\n",
       "<style scoped>\n",
       "    .dataframe tbody tr th:only-of-type {\n",
       "        vertical-align: middle;\n",
       "    }\n",
       "\n",
       "    .dataframe tbody tr th {\n",
       "        vertical-align: top;\n",
       "    }\n",
       "\n",
       "    .dataframe thead th {\n",
       "        text-align: right;\n",
       "    }\n",
       "</style>\n",
       "<table border=\"1\" class=\"dataframe\">\n",
       "  <thead>\n",
       "    <tr style=\"text-align: right;\">\n",
       "      <th></th>\n",
       "      <th>age</th>\n",
       "      <th>hypertension</th>\n",
       "      <th>heart_disease</th>\n",
       "      <th>avg_glucose_level</th>\n",
       "      <th>bmi</th>\n",
       "      <th>stroke</th>\n",
       "      <th>gender_Female</th>\n",
       "      <th>gender_Male</th>\n",
       "      <th>gender_Other</th>\n",
       "      <th>ever_married_No</th>\n",
       "      <th>...</th>\n",
       "      <th>work_type_Never_worked</th>\n",
       "      <th>work_type_Private</th>\n",
       "      <th>work_type_Self-employed</th>\n",
       "      <th>work_type_children</th>\n",
       "      <th>Residence_type_Rural</th>\n",
       "      <th>Residence_type_Urban</th>\n",
       "      <th>smoking_status_Unknown</th>\n",
       "      <th>smoking_status_formerly smoked</th>\n",
       "      <th>smoking_status_never smoked</th>\n",
       "      <th>smoking_status_smokes</th>\n",
       "    </tr>\n",
       "  </thead>\n",
       "  <tbody>\n",
       "    <tr>\n",
       "      <th>0</th>\n",
       "      <td>67.0</td>\n",
       "      <td>0</td>\n",
       "      <td>1</td>\n",
       "      <td>228.69</td>\n",
       "      <td>36.6</td>\n",
       "      <td>1</td>\n",
       "      <td>0</td>\n",
       "      <td>1</td>\n",
       "      <td>0</td>\n",
       "      <td>0</td>\n",
       "      <td>...</td>\n",
       "      <td>0</td>\n",
       "      <td>1</td>\n",
       "      <td>0</td>\n",
       "      <td>0</td>\n",
       "      <td>0</td>\n",
       "      <td>1</td>\n",
       "      <td>0</td>\n",
       "      <td>1</td>\n",
       "      <td>0</td>\n",
       "      <td>0</td>\n",
       "    </tr>\n",
       "    <tr>\n",
       "      <th>1</th>\n",
       "      <td>80.0</td>\n",
       "      <td>0</td>\n",
       "      <td>1</td>\n",
       "      <td>105.92</td>\n",
       "      <td>32.5</td>\n",
       "      <td>1</td>\n",
       "      <td>0</td>\n",
       "      <td>1</td>\n",
       "      <td>0</td>\n",
       "      <td>0</td>\n",
       "      <td>...</td>\n",
       "      <td>0</td>\n",
       "      <td>1</td>\n",
       "      <td>0</td>\n",
       "      <td>0</td>\n",
       "      <td>1</td>\n",
       "      <td>0</td>\n",
       "      <td>0</td>\n",
       "      <td>0</td>\n",
       "      <td>1</td>\n",
       "      <td>0</td>\n",
       "    </tr>\n",
       "    <tr>\n",
       "      <th>2</th>\n",
       "      <td>49.0</td>\n",
       "      <td>0</td>\n",
       "      <td>0</td>\n",
       "      <td>171.23</td>\n",
       "      <td>34.4</td>\n",
       "      <td>1</td>\n",
       "      <td>1</td>\n",
       "      <td>0</td>\n",
       "      <td>0</td>\n",
       "      <td>0</td>\n",
       "      <td>...</td>\n",
       "      <td>0</td>\n",
       "      <td>1</td>\n",
       "      <td>0</td>\n",
       "      <td>0</td>\n",
       "      <td>0</td>\n",
       "      <td>1</td>\n",
       "      <td>0</td>\n",
       "      <td>0</td>\n",
       "      <td>0</td>\n",
       "      <td>1</td>\n",
       "    </tr>\n",
       "    <tr>\n",
       "      <th>3</th>\n",
       "      <td>79.0</td>\n",
       "      <td>1</td>\n",
       "      <td>0</td>\n",
       "      <td>174.12</td>\n",
       "      <td>24.0</td>\n",
       "      <td>1</td>\n",
       "      <td>1</td>\n",
       "      <td>0</td>\n",
       "      <td>0</td>\n",
       "      <td>0</td>\n",
       "      <td>...</td>\n",
       "      <td>0</td>\n",
       "      <td>0</td>\n",
       "      <td>1</td>\n",
       "      <td>0</td>\n",
       "      <td>1</td>\n",
       "      <td>0</td>\n",
       "      <td>0</td>\n",
       "      <td>0</td>\n",
       "      <td>1</td>\n",
       "      <td>0</td>\n",
       "    </tr>\n",
       "    <tr>\n",
       "      <th>4</th>\n",
       "      <td>81.0</td>\n",
       "      <td>0</td>\n",
       "      <td>0</td>\n",
       "      <td>186.21</td>\n",
       "      <td>29.0</td>\n",
       "      <td>1</td>\n",
       "      <td>0</td>\n",
       "      <td>1</td>\n",
       "      <td>0</td>\n",
       "      <td>0</td>\n",
       "      <td>...</td>\n",
       "      <td>0</td>\n",
       "      <td>1</td>\n",
       "      <td>0</td>\n",
       "      <td>0</td>\n",
       "      <td>0</td>\n",
       "      <td>1</td>\n",
       "      <td>0</td>\n",
       "      <td>1</td>\n",
       "      <td>0</td>\n",
       "      <td>0</td>\n",
       "    </tr>\n",
       "    <tr>\n",
       "      <th>...</th>\n",
       "      <td>...</td>\n",
       "      <td>...</td>\n",
       "      <td>...</td>\n",
       "      <td>...</td>\n",
       "      <td>...</td>\n",
       "      <td>...</td>\n",
       "      <td>...</td>\n",
       "      <td>...</td>\n",
       "      <td>...</td>\n",
       "      <td>...</td>\n",
       "      <td>...</td>\n",
       "      <td>...</td>\n",
       "      <td>...</td>\n",
       "      <td>...</td>\n",
       "      <td>...</td>\n",
       "      <td>...</td>\n",
       "      <td>...</td>\n",
       "      <td>...</td>\n",
       "      <td>...</td>\n",
       "      <td>...</td>\n",
       "      <td>...</td>\n",
       "    </tr>\n",
       "    <tr>\n",
       "      <th>204</th>\n",
       "      <td>68.0</td>\n",
       "      <td>1</td>\n",
       "      <td>1</td>\n",
       "      <td>247.51</td>\n",
       "      <td>40.5</td>\n",
       "      <td>1</td>\n",
       "      <td>1</td>\n",
       "      <td>0</td>\n",
       "      <td>0</td>\n",
       "      <td>0</td>\n",
       "      <td>...</td>\n",
       "      <td>0</td>\n",
       "      <td>1</td>\n",
       "      <td>0</td>\n",
       "      <td>0</td>\n",
       "      <td>0</td>\n",
       "      <td>1</td>\n",
       "      <td>0</td>\n",
       "      <td>1</td>\n",
       "      <td>0</td>\n",
       "      <td>0</td>\n",
       "    </tr>\n",
       "    <tr>\n",
       "      <th>205</th>\n",
       "      <td>57.0</td>\n",
       "      <td>0</td>\n",
       "      <td>0</td>\n",
       "      <td>84.96</td>\n",
       "      <td>36.7</td>\n",
       "      <td>1</td>\n",
       "      <td>0</td>\n",
       "      <td>1</td>\n",
       "      <td>0</td>\n",
       "      <td>0</td>\n",
       "      <td>...</td>\n",
       "      <td>0</td>\n",
       "      <td>1</td>\n",
       "      <td>0</td>\n",
       "      <td>0</td>\n",
       "      <td>1</td>\n",
       "      <td>0</td>\n",
       "      <td>1</td>\n",
       "      <td>0</td>\n",
       "      <td>0</td>\n",
       "      <td>0</td>\n",
       "    </tr>\n",
       "    <tr>\n",
       "      <th>206</th>\n",
       "      <td>14.0</td>\n",
       "      <td>0</td>\n",
       "      <td>0</td>\n",
       "      <td>57.93</td>\n",
       "      <td>30.9</td>\n",
       "      <td>1</td>\n",
       "      <td>1</td>\n",
       "      <td>0</td>\n",
       "      <td>0</td>\n",
       "      <td>1</td>\n",
       "      <td>...</td>\n",
       "      <td>0</td>\n",
       "      <td>0</td>\n",
       "      <td>0</td>\n",
       "      <td>1</td>\n",
       "      <td>1</td>\n",
       "      <td>0</td>\n",
       "      <td>1</td>\n",
       "      <td>0</td>\n",
       "      <td>0</td>\n",
       "      <td>0</td>\n",
       "    </tr>\n",
       "    <tr>\n",
       "      <th>207</th>\n",
       "      <td>75.0</td>\n",
       "      <td>0</td>\n",
       "      <td>0</td>\n",
       "      <td>78.80</td>\n",
       "      <td>29.3</td>\n",
       "      <td>1</td>\n",
       "      <td>1</td>\n",
       "      <td>0</td>\n",
       "      <td>0</td>\n",
       "      <td>0</td>\n",
       "      <td>...</td>\n",
       "      <td>0</td>\n",
       "      <td>0</td>\n",
       "      <td>1</td>\n",
       "      <td>0</td>\n",
       "      <td>1</td>\n",
       "      <td>0</td>\n",
       "      <td>0</td>\n",
       "      <td>1</td>\n",
       "      <td>0</td>\n",
       "      <td>0</td>\n",
       "    </tr>\n",
       "    <tr>\n",
       "      <th>208</th>\n",
       "      <td>78.0</td>\n",
       "      <td>0</td>\n",
       "      <td>0</td>\n",
       "      <td>78.81</td>\n",
       "      <td>19.6</td>\n",
       "      <td>1</td>\n",
       "      <td>1</td>\n",
       "      <td>0</td>\n",
       "      <td>0</td>\n",
       "      <td>0</td>\n",
       "      <td>...</td>\n",
       "      <td>0</td>\n",
       "      <td>1</td>\n",
       "      <td>0</td>\n",
       "      <td>0</td>\n",
       "      <td>1</td>\n",
       "      <td>0</td>\n",
       "      <td>1</td>\n",
       "      <td>0</td>\n",
       "      <td>0</td>\n",
       "      <td>0</td>\n",
       "    </tr>\n",
       "  </tbody>\n",
       "</table>\n",
       "<p>209 rows × 22 columns</p>\n",
       "</div>"
      ],
      "text/plain": [
       "      age  hypertension  heart_disease  avg_glucose_level   bmi  stroke  \\\n",
       "0    67.0             0              1             228.69  36.6       1   \n",
       "1    80.0             0              1             105.92  32.5       1   \n",
       "2    49.0             0              0             171.23  34.4       1   \n",
       "3    79.0             1              0             174.12  24.0       1   \n",
       "4    81.0             0              0             186.21  29.0       1   \n",
       "..    ...           ...            ...                ...   ...     ...   \n",
       "204  68.0             1              1             247.51  40.5       1   \n",
       "205  57.0             0              0              84.96  36.7       1   \n",
       "206  14.0             0              0              57.93  30.9       1   \n",
       "207  75.0             0              0              78.80  29.3       1   \n",
       "208  78.0             0              0              78.81  19.6       1   \n",
       "\n",
       "     gender_Female  gender_Male  gender_Other  ever_married_No  ...  \\\n",
       "0                0            1             0                0  ...   \n",
       "1                0            1             0                0  ...   \n",
       "2                1            0             0                0  ...   \n",
       "3                1            0             0                0  ...   \n",
       "4                0            1             0                0  ...   \n",
       "..             ...          ...           ...              ...  ...   \n",
       "204              1            0             0                0  ...   \n",
       "205              0            1             0                0  ...   \n",
       "206              1            0             0                1  ...   \n",
       "207              1            0             0                0  ...   \n",
       "208              1            0             0                0  ...   \n",
       "\n",
       "     work_type_Never_worked  work_type_Private  work_type_Self-employed  \\\n",
       "0                         0                  1                        0   \n",
       "1                         0                  1                        0   \n",
       "2                         0                  1                        0   \n",
       "3                         0                  0                        1   \n",
       "4                         0                  1                        0   \n",
       "..                      ...                ...                      ...   \n",
       "204                       0                  1                        0   \n",
       "205                       0                  1                        0   \n",
       "206                       0                  0                        0   \n",
       "207                       0                  0                        1   \n",
       "208                       0                  1                        0   \n",
       "\n",
       "     work_type_children  Residence_type_Rural  Residence_type_Urban  \\\n",
       "0                     0                     0                     1   \n",
       "1                     0                     1                     0   \n",
       "2                     0                     0                     1   \n",
       "3                     0                     1                     0   \n",
       "4                     0                     0                     1   \n",
       "..                  ...                   ...                   ...   \n",
       "204                   0                     0                     1   \n",
       "205                   0                     1                     0   \n",
       "206                   1                     1                     0   \n",
       "207                   0                     1                     0   \n",
       "208                   0                     1                     0   \n",
       "\n",
       "     smoking_status_Unknown  smoking_status_formerly smoked  \\\n",
       "0                         0                               1   \n",
       "1                         0                               0   \n",
       "2                         0                               0   \n",
       "3                         0                               0   \n",
       "4                         0                               1   \n",
       "..                      ...                             ...   \n",
       "204                       0                               1   \n",
       "205                       1                               0   \n",
       "206                       1                               0   \n",
       "207                       0                               1   \n",
       "208                       1                               0   \n",
       "\n",
       "     smoking_status_never smoked  smoking_status_smokes  \n",
       "0                              0                      0  \n",
       "1                              1                      0  \n",
       "2                              0                      1  \n",
       "3                              1                      0  \n",
       "4                              0                      0  \n",
       "..                           ...                    ...  \n",
       "204                            0                      0  \n",
       "205                            0                      0  \n",
       "206                            0                      0  \n",
       "207                            0                      0  \n",
       "208                            0                      0  \n",
       "\n",
       "[209 rows x 22 columns]"
      ]
     },
     "execution_count": 204,
     "metadata": {},
     "output_type": "execute_result"
    }
   ],
   "source": [
    "df_stroke_1"
   ]
  },
  {
   "cell_type": "code",
   "execution_count": 205,
   "id": "07cf136c",
   "metadata": {},
   "outputs": [
    {
     "data": {
      "text/html": [
       "<div>\n",
       "<style scoped>\n",
       "    .dataframe tbody tr th:only-of-type {\n",
       "        vertical-align: middle;\n",
       "    }\n",
       "\n",
       "    .dataframe tbody tr th {\n",
       "        vertical-align: top;\n",
       "    }\n",
       "\n",
       "    .dataframe thead th {\n",
       "        text-align: right;\n",
       "    }\n",
       "</style>\n",
       "<table border=\"1\" class=\"dataframe\">\n",
       "  <thead>\n",
       "    <tr style=\"text-align: right;\">\n",
       "      <th></th>\n",
       "      <th>age</th>\n",
       "      <th>hypertension</th>\n",
       "      <th>heart_disease</th>\n",
       "      <th>avg_glucose_level</th>\n",
       "      <th>bmi</th>\n",
       "      <th>stroke</th>\n",
       "      <th>gender_Female</th>\n",
       "      <th>gender_Male</th>\n",
       "      <th>gender_Other</th>\n",
       "      <th>ever_married_No</th>\n",
       "      <th>...</th>\n",
       "      <th>work_type_Never_worked</th>\n",
       "      <th>work_type_Private</th>\n",
       "      <th>work_type_Self-employed</th>\n",
       "      <th>work_type_children</th>\n",
       "      <th>Residence_type_Rural</th>\n",
       "      <th>Residence_type_Urban</th>\n",
       "      <th>smoking_status_Unknown</th>\n",
       "      <th>smoking_status_formerly smoked</th>\n",
       "      <th>smoking_status_never smoked</th>\n",
       "      <th>smoking_status_smokes</th>\n",
       "    </tr>\n",
       "  </thead>\n",
       "  <tbody>\n",
       "    <tr>\n",
       "      <th>2</th>\n",
       "      <td>8.0</td>\n",
       "      <td>0</td>\n",
       "      <td>0</td>\n",
       "      <td>110.89</td>\n",
       "      <td>17.6</td>\n",
       "      <td>0</td>\n",
       "      <td>1</td>\n",
       "      <td>0</td>\n",
       "      <td>0</td>\n",
       "      <td>1</td>\n",
       "      <td>...</td>\n",
       "      <td>0</td>\n",
       "      <td>1</td>\n",
       "      <td>0</td>\n",
       "      <td>0</td>\n",
       "      <td>0</td>\n",
       "      <td>1</td>\n",
       "      <td>1</td>\n",
       "      <td>0</td>\n",
       "      <td>0</td>\n",
       "      <td>0</td>\n",
       "    </tr>\n",
       "    <tr>\n",
       "      <th>47</th>\n",
       "      <td>66.0</td>\n",
       "      <td>0</td>\n",
       "      <td>0</td>\n",
       "      <td>141.24</td>\n",
       "      <td>28.5</td>\n",
       "      <td>0</td>\n",
       "      <td>1</td>\n",
       "      <td>0</td>\n",
       "      <td>0</td>\n",
       "      <td>0</td>\n",
       "      <td>...</td>\n",
       "      <td>0</td>\n",
       "      <td>1</td>\n",
       "      <td>0</td>\n",
       "      <td>0</td>\n",
       "      <td>1</td>\n",
       "      <td>0</td>\n",
       "      <td>0</td>\n",
       "      <td>0</td>\n",
       "      <td>1</td>\n",
       "      <td>0</td>\n",
       "    </tr>\n",
       "    <tr>\n",
       "      <th>65</th>\n",
       "      <td>78.0</td>\n",
       "      <td>1</td>\n",
       "      <td>0</td>\n",
       "      <td>218.46</td>\n",
       "      <td>34.3</td>\n",
       "      <td>0</td>\n",
       "      <td>1</td>\n",
       "      <td>0</td>\n",
       "      <td>0</td>\n",
       "      <td>0</td>\n",
       "      <td>...</td>\n",
       "      <td>0</td>\n",
       "      <td>1</td>\n",
       "      <td>0</td>\n",
       "      <td>0</td>\n",
       "      <td>0</td>\n",
       "      <td>1</td>\n",
       "      <td>0</td>\n",
       "      <td>0</td>\n",
       "      <td>1</td>\n",
       "      <td>0</td>\n",
       "    </tr>\n",
       "    <tr>\n",
       "      <th>84</th>\n",
       "      <td>52.0</td>\n",
       "      <td>0</td>\n",
       "      <td>0</td>\n",
       "      <td>82.24</td>\n",
       "      <td>54.7</td>\n",
       "      <td>0</td>\n",
       "      <td>1</td>\n",
       "      <td>0</td>\n",
       "      <td>0</td>\n",
       "      <td>0</td>\n",
       "      <td>...</td>\n",
       "      <td>0</td>\n",
       "      <td>1</td>\n",
       "      <td>0</td>\n",
       "      <td>0</td>\n",
       "      <td>0</td>\n",
       "      <td>1</td>\n",
       "      <td>0</td>\n",
       "      <td>1</td>\n",
       "      <td>0</td>\n",
       "      <td>0</td>\n",
       "    </tr>\n",
       "    <tr>\n",
       "      <th>116</th>\n",
       "      <td>44.0</td>\n",
       "      <td>0</td>\n",
       "      <td>0</td>\n",
       "      <td>107.41</td>\n",
       "      <td>47.3</td>\n",
       "      <td>0</td>\n",
       "      <td>1</td>\n",
       "      <td>0</td>\n",
       "      <td>0</td>\n",
       "      <td>0</td>\n",
       "      <td>...</td>\n",
       "      <td>0</td>\n",
       "      <td>1</td>\n",
       "      <td>0</td>\n",
       "      <td>0</td>\n",
       "      <td>1</td>\n",
       "      <td>0</td>\n",
       "      <td>0</td>\n",
       "      <td>0</td>\n",
       "      <td>1</td>\n",
       "      <td>0</td>\n",
       "    </tr>\n",
       "    <tr>\n",
       "      <th>...</th>\n",
       "      <td>...</td>\n",
       "      <td>...</td>\n",
       "      <td>...</td>\n",
       "      <td>...</td>\n",
       "      <td>...</td>\n",
       "      <td>...</td>\n",
       "      <td>...</td>\n",
       "      <td>...</td>\n",
       "      <td>...</td>\n",
       "      <td>...</td>\n",
       "      <td>...</td>\n",
       "      <td>...</td>\n",
       "      <td>...</td>\n",
       "      <td>...</td>\n",
       "      <td>...</td>\n",
       "      <td>...</td>\n",
       "      <td>...</td>\n",
       "      <td>...</td>\n",
       "      <td>...</td>\n",
       "      <td>...</td>\n",
       "      <td>...</td>\n",
       "    </tr>\n",
       "    <tr>\n",
       "      <th>4576</th>\n",
       "      <td>26.0</td>\n",
       "      <td>0</td>\n",
       "      <td>0</td>\n",
       "      <td>73.29</td>\n",
       "      <td>27.8</td>\n",
       "      <td>0</td>\n",
       "      <td>1</td>\n",
       "      <td>0</td>\n",
       "      <td>0</td>\n",
       "      <td>0</td>\n",
       "      <td>...</td>\n",
       "      <td>0</td>\n",
       "      <td>1</td>\n",
       "      <td>0</td>\n",
       "      <td>0</td>\n",
       "      <td>1</td>\n",
       "      <td>0</td>\n",
       "      <td>0</td>\n",
       "      <td>0</td>\n",
       "      <td>1</td>\n",
       "      <td>0</td>\n",
       "    </tr>\n",
       "    <tr>\n",
       "      <th>4592</th>\n",
       "      <td>33.0</td>\n",
       "      <td>0</td>\n",
       "      <td>0</td>\n",
       "      <td>81.10</td>\n",
       "      <td>24.8</td>\n",
       "      <td>0</td>\n",
       "      <td>0</td>\n",
       "      <td>1</td>\n",
       "      <td>0</td>\n",
       "      <td>0</td>\n",
       "      <td>...</td>\n",
       "      <td>0</td>\n",
       "      <td>0</td>\n",
       "      <td>0</td>\n",
       "      <td>0</td>\n",
       "      <td>1</td>\n",
       "      <td>0</td>\n",
       "      <td>0</td>\n",
       "      <td>0</td>\n",
       "      <td>1</td>\n",
       "      <td>0</td>\n",
       "    </tr>\n",
       "    <tr>\n",
       "      <th>4607</th>\n",
       "      <td>78.0</td>\n",
       "      <td>0</td>\n",
       "      <td>0</td>\n",
       "      <td>60.22</td>\n",
       "      <td>29.7</td>\n",
       "      <td>0</td>\n",
       "      <td>0</td>\n",
       "      <td>1</td>\n",
       "      <td>0</td>\n",
       "      <td>0</td>\n",
       "      <td>...</td>\n",
       "      <td>0</td>\n",
       "      <td>1</td>\n",
       "      <td>0</td>\n",
       "      <td>0</td>\n",
       "      <td>0</td>\n",
       "      <td>1</td>\n",
       "      <td>0</td>\n",
       "      <td>1</td>\n",
       "      <td>0</td>\n",
       "      <td>0</td>\n",
       "    </tr>\n",
       "    <tr>\n",
       "      <th>4622</th>\n",
       "      <td>70.0</td>\n",
       "      <td>0</td>\n",
       "      <td>0</td>\n",
       "      <td>102.50</td>\n",
       "      <td>37.8</td>\n",
       "      <td>0</td>\n",
       "      <td>0</td>\n",
       "      <td>1</td>\n",
       "      <td>0</td>\n",
       "      <td>0</td>\n",
       "      <td>...</td>\n",
       "      <td>0</td>\n",
       "      <td>1</td>\n",
       "      <td>0</td>\n",
       "      <td>0</td>\n",
       "      <td>0</td>\n",
       "      <td>1</td>\n",
       "      <td>1</td>\n",
       "      <td>0</td>\n",
       "      <td>0</td>\n",
       "      <td>0</td>\n",
       "    </tr>\n",
       "    <tr>\n",
       "      <th>4624</th>\n",
       "      <td>17.0</td>\n",
       "      <td>0</td>\n",
       "      <td>0</td>\n",
       "      <td>106.56</td>\n",
       "      <td>21.0</td>\n",
       "      <td>0</td>\n",
       "      <td>0</td>\n",
       "      <td>1</td>\n",
       "      <td>0</td>\n",
       "      <td>1</td>\n",
       "      <td>...</td>\n",
       "      <td>0</td>\n",
       "      <td>1</td>\n",
       "      <td>0</td>\n",
       "      <td>0</td>\n",
       "      <td>1</td>\n",
       "      <td>0</td>\n",
       "      <td>1</td>\n",
       "      <td>0</td>\n",
       "      <td>0</td>\n",
       "      <td>0</td>\n",
       "    </tr>\n",
       "  </tbody>\n",
       "</table>\n",
       "<p>221 rows × 22 columns</p>\n",
       "</div>"
      ],
      "text/plain": [
       "       age  hypertension  heart_disease  avg_glucose_level   bmi  stroke  \\\n",
       "2      8.0             0              0             110.89  17.6       0   \n",
       "47    66.0             0              0             141.24  28.5       0   \n",
       "65    78.0             1              0             218.46  34.3       0   \n",
       "84    52.0             0              0              82.24  54.7       0   \n",
       "116   44.0             0              0             107.41  47.3       0   \n",
       "...    ...           ...            ...                ...   ...     ...   \n",
       "4576  26.0             0              0              73.29  27.8       0   \n",
       "4592  33.0             0              0              81.10  24.8       0   \n",
       "4607  78.0             0              0              60.22  29.7       0   \n",
       "4622  70.0             0              0             102.50  37.8       0   \n",
       "4624  17.0             0              0             106.56  21.0       0   \n",
       "\n",
       "      gender_Female  gender_Male  gender_Other  ever_married_No  ...  \\\n",
       "2                 1            0             0                1  ...   \n",
       "47                1            0             0                0  ...   \n",
       "65                1            0             0                0  ...   \n",
       "84                1            0             0                0  ...   \n",
       "116               1            0             0                0  ...   \n",
       "...             ...          ...           ...              ...  ...   \n",
       "4576              1            0             0                0  ...   \n",
       "4592              0            1             0                0  ...   \n",
       "4607              0            1             0                0  ...   \n",
       "4622              0            1             0                0  ...   \n",
       "4624              0            1             0                1  ...   \n",
       "\n",
       "      work_type_Never_worked  work_type_Private  work_type_Self-employed  \\\n",
       "2                          0                  1                        0   \n",
       "47                         0                  1                        0   \n",
       "65                         0                  1                        0   \n",
       "84                         0                  1                        0   \n",
       "116                        0                  1                        0   \n",
       "...                      ...                ...                      ...   \n",
       "4576                       0                  1                        0   \n",
       "4592                       0                  0                        0   \n",
       "4607                       0                  1                        0   \n",
       "4622                       0                  1                        0   \n",
       "4624                       0                  1                        0   \n",
       "\n",
       "      work_type_children  Residence_type_Rural  Residence_type_Urban  \\\n",
       "2                      0                     0                     1   \n",
       "47                     0                     1                     0   \n",
       "65                     0                     0                     1   \n",
       "84                     0                     0                     1   \n",
       "116                    0                     1                     0   \n",
       "...                  ...                   ...                   ...   \n",
       "4576                   0                     1                     0   \n",
       "4592                   0                     1                     0   \n",
       "4607                   0                     0                     1   \n",
       "4622                   0                     0                     1   \n",
       "4624                   0                     1                     0   \n",
       "\n",
       "      smoking_status_Unknown  smoking_status_formerly smoked  \\\n",
       "2                          1                               0   \n",
       "47                         0                               0   \n",
       "65                         0                               0   \n",
       "84                         0                               1   \n",
       "116                        0                               0   \n",
       "...                      ...                             ...   \n",
       "4576                       0                               0   \n",
       "4592                       0                               0   \n",
       "4607                       0                               1   \n",
       "4622                       1                               0   \n",
       "4624                       1                               0   \n",
       "\n",
       "      smoking_status_never smoked  smoking_status_smokes  \n",
       "2                               0                      0  \n",
       "47                              1                      0  \n",
       "65                              1                      0  \n",
       "84                              0                      0  \n",
       "116                             1                      0  \n",
       "...                           ...                    ...  \n",
       "4576                            1                      0  \n",
       "4592                            1                      0  \n",
       "4607                            0                      0  \n",
       "4622                            0                      0  \n",
       "4624                            0                      0  \n",
       "\n",
       "[221 rows x 22 columns]"
      ]
     },
     "execution_count": 205,
     "metadata": {},
     "output_type": "execute_result"
    }
   ],
   "source": [
    "df_stroke_0"
   ]
  },
  {
   "cell_type": "code",
   "execution_count": 206,
   "id": "43028e05",
   "metadata": {},
   "outputs": [],
   "source": [
    "new_df = pd.concat([df_stroke_0,df_stroke_1]).reset_index().drop('index', axis = 1)"
   ]
  },
  {
   "cell_type": "code",
   "execution_count": 207,
   "id": "4b2219df",
   "metadata": {},
   "outputs": [
    {
     "data": {
      "text/html": [
       "<div>\n",
       "<style scoped>\n",
       "    .dataframe tbody tr th:only-of-type {\n",
       "        vertical-align: middle;\n",
       "    }\n",
       "\n",
       "    .dataframe tbody tr th {\n",
       "        vertical-align: top;\n",
       "    }\n",
       "\n",
       "    .dataframe thead th {\n",
       "        text-align: right;\n",
       "    }\n",
       "</style>\n",
       "<table border=\"1\" class=\"dataframe\">\n",
       "  <thead>\n",
       "    <tr style=\"text-align: right;\">\n",
       "      <th></th>\n",
       "      <th>age</th>\n",
       "      <th>hypertension</th>\n",
       "      <th>heart_disease</th>\n",
       "      <th>avg_glucose_level</th>\n",
       "      <th>bmi</th>\n",
       "      <th>stroke</th>\n",
       "      <th>gender_Female</th>\n",
       "      <th>gender_Male</th>\n",
       "      <th>gender_Other</th>\n",
       "      <th>ever_married_No</th>\n",
       "      <th>...</th>\n",
       "      <th>work_type_Never_worked</th>\n",
       "      <th>work_type_Private</th>\n",
       "      <th>work_type_Self-employed</th>\n",
       "      <th>work_type_children</th>\n",
       "      <th>Residence_type_Rural</th>\n",
       "      <th>Residence_type_Urban</th>\n",
       "      <th>smoking_status_Unknown</th>\n",
       "      <th>smoking_status_formerly smoked</th>\n",
       "      <th>smoking_status_never smoked</th>\n",
       "      <th>smoking_status_smokes</th>\n",
       "    </tr>\n",
       "  </thead>\n",
       "  <tbody>\n",
       "    <tr>\n",
       "      <th>0</th>\n",
       "      <td>8.0</td>\n",
       "      <td>0</td>\n",
       "      <td>0</td>\n",
       "      <td>110.89</td>\n",
       "      <td>17.6</td>\n",
       "      <td>0</td>\n",
       "      <td>1</td>\n",
       "      <td>0</td>\n",
       "      <td>0</td>\n",
       "      <td>1</td>\n",
       "      <td>...</td>\n",
       "      <td>0</td>\n",
       "      <td>1</td>\n",
       "      <td>0</td>\n",
       "      <td>0</td>\n",
       "      <td>0</td>\n",
       "      <td>1</td>\n",
       "      <td>1</td>\n",
       "      <td>0</td>\n",
       "      <td>0</td>\n",
       "      <td>0</td>\n",
       "    </tr>\n",
       "    <tr>\n",
       "      <th>1</th>\n",
       "      <td>66.0</td>\n",
       "      <td>0</td>\n",
       "      <td>0</td>\n",
       "      <td>141.24</td>\n",
       "      <td>28.5</td>\n",
       "      <td>0</td>\n",
       "      <td>1</td>\n",
       "      <td>0</td>\n",
       "      <td>0</td>\n",
       "      <td>0</td>\n",
       "      <td>...</td>\n",
       "      <td>0</td>\n",
       "      <td>1</td>\n",
       "      <td>0</td>\n",
       "      <td>0</td>\n",
       "      <td>1</td>\n",
       "      <td>0</td>\n",
       "      <td>0</td>\n",
       "      <td>0</td>\n",
       "      <td>1</td>\n",
       "      <td>0</td>\n",
       "    </tr>\n",
       "    <tr>\n",
       "      <th>2</th>\n",
       "      <td>78.0</td>\n",
       "      <td>1</td>\n",
       "      <td>0</td>\n",
       "      <td>218.46</td>\n",
       "      <td>34.3</td>\n",
       "      <td>0</td>\n",
       "      <td>1</td>\n",
       "      <td>0</td>\n",
       "      <td>0</td>\n",
       "      <td>0</td>\n",
       "      <td>...</td>\n",
       "      <td>0</td>\n",
       "      <td>1</td>\n",
       "      <td>0</td>\n",
       "      <td>0</td>\n",
       "      <td>0</td>\n",
       "      <td>1</td>\n",
       "      <td>0</td>\n",
       "      <td>0</td>\n",
       "      <td>1</td>\n",
       "      <td>0</td>\n",
       "    </tr>\n",
       "    <tr>\n",
       "      <th>3</th>\n",
       "      <td>52.0</td>\n",
       "      <td>0</td>\n",
       "      <td>0</td>\n",
       "      <td>82.24</td>\n",
       "      <td>54.7</td>\n",
       "      <td>0</td>\n",
       "      <td>1</td>\n",
       "      <td>0</td>\n",
       "      <td>0</td>\n",
       "      <td>0</td>\n",
       "      <td>...</td>\n",
       "      <td>0</td>\n",
       "      <td>1</td>\n",
       "      <td>0</td>\n",
       "      <td>0</td>\n",
       "      <td>0</td>\n",
       "      <td>1</td>\n",
       "      <td>0</td>\n",
       "      <td>1</td>\n",
       "      <td>0</td>\n",
       "      <td>0</td>\n",
       "    </tr>\n",
       "    <tr>\n",
       "      <th>4</th>\n",
       "      <td>44.0</td>\n",
       "      <td>0</td>\n",
       "      <td>0</td>\n",
       "      <td>107.41</td>\n",
       "      <td>47.3</td>\n",
       "      <td>0</td>\n",
       "      <td>1</td>\n",
       "      <td>0</td>\n",
       "      <td>0</td>\n",
       "      <td>0</td>\n",
       "      <td>...</td>\n",
       "      <td>0</td>\n",
       "      <td>1</td>\n",
       "      <td>0</td>\n",
       "      <td>0</td>\n",
       "      <td>1</td>\n",
       "      <td>0</td>\n",
       "      <td>0</td>\n",
       "      <td>0</td>\n",
       "      <td>1</td>\n",
       "      <td>0</td>\n",
       "    </tr>\n",
       "    <tr>\n",
       "      <th>...</th>\n",
       "      <td>...</td>\n",
       "      <td>...</td>\n",
       "      <td>...</td>\n",
       "      <td>...</td>\n",
       "      <td>...</td>\n",
       "      <td>...</td>\n",
       "      <td>...</td>\n",
       "      <td>...</td>\n",
       "      <td>...</td>\n",
       "      <td>...</td>\n",
       "      <td>...</td>\n",
       "      <td>...</td>\n",
       "      <td>...</td>\n",
       "      <td>...</td>\n",
       "      <td>...</td>\n",
       "      <td>...</td>\n",
       "      <td>...</td>\n",
       "      <td>...</td>\n",
       "      <td>...</td>\n",
       "      <td>...</td>\n",
       "      <td>...</td>\n",
       "    </tr>\n",
       "    <tr>\n",
       "      <th>425</th>\n",
       "      <td>68.0</td>\n",
       "      <td>1</td>\n",
       "      <td>1</td>\n",
       "      <td>247.51</td>\n",
       "      <td>40.5</td>\n",
       "      <td>1</td>\n",
       "      <td>1</td>\n",
       "      <td>0</td>\n",
       "      <td>0</td>\n",
       "      <td>0</td>\n",
       "      <td>...</td>\n",
       "      <td>0</td>\n",
       "      <td>1</td>\n",
       "      <td>0</td>\n",
       "      <td>0</td>\n",
       "      <td>0</td>\n",
       "      <td>1</td>\n",
       "      <td>0</td>\n",
       "      <td>1</td>\n",
       "      <td>0</td>\n",
       "      <td>0</td>\n",
       "    </tr>\n",
       "    <tr>\n",
       "      <th>426</th>\n",
       "      <td>57.0</td>\n",
       "      <td>0</td>\n",
       "      <td>0</td>\n",
       "      <td>84.96</td>\n",
       "      <td>36.7</td>\n",
       "      <td>1</td>\n",
       "      <td>0</td>\n",
       "      <td>1</td>\n",
       "      <td>0</td>\n",
       "      <td>0</td>\n",
       "      <td>...</td>\n",
       "      <td>0</td>\n",
       "      <td>1</td>\n",
       "      <td>0</td>\n",
       "      <td>0</td>\n",
       "      <td>1</td>\n",
       "      <td>0</td>\n",
       "      <td>1</td>\n",
       "      <td>0</td>\n",
       "      <td>0</td>\n",
       "      <td>0</td>\n",
       "    </tr>\n",
       "    <tr>\n",
       "      <th>427</th>\n",
       "      <td>14.0</td>\n",
       "      <td>0</td>\n",
       "      <td>0</td>\n",
       "      <td>57.93</td>\n",
       "      <td>30.9</td>\n",
       "      <td>1</td>\n",
       "      <td>1</td>\n",
       "      <td>0</td>\n",
       "      <td>0</td>\n",
       "      <td>1</td>\n",
       "      <td>...</td>\n",
       "      <td>0</td>\n",
       "      <td>0</td>\n",
       "      <td>0</td>\n",
       "      <td>1</td>\n",
       "      <td>1</td>\n",
       "      <td>0</td>\n",
       "      <td>1</td>\n",
       "      <td>0</td>\n",
       "      <td>0</td>\n",
       "      <td>0</td>\n",
       "    </tr>\n",
       "    <tr>\n",
       "      <th>428</th>\n",
       "      <td>75.0</td>\n",
       "      <td>0</td>\n",
       "      <td>0</td>\n",
       "      <td>78.80</td>\n",
       "      <td>29.3</td>\n",
       "      <td>1</td>\n",
       "      <td>1</td>\n",
       "      <td>0</td>\n",
       "      <td>0</td>\n",
       "      <td>0</td>\n",
       "      <td>...</td>\n",
       "      <td>0</td>\n",
       "      <td>0</td>\n",
       "      <td>1</td>\n",
       "      <td>0</td>\n",
       "      <td>1</td>\n",
       "      <td>0</td>\n",
       "      <td>0</td>\n",
       "      <td>1</td>\n",
       "      <td>0</td>\n",
       "      <td>0</td>\n",
       "    </tr>\n",
       "    <tr>\n",
       "      <th>429</th>\n",
       "      <td>78.0</td>\n",
       "      <td>0</td>\n",
       "      <td>0</td>\n",
       "      <td>78.81</td>\n",
       "      <td>19.6</td>\n",
       "      <td>1</td>\n",
       "      <td>1</td>\n",
       "      <td>0</td>\n",
       "      <td>0</td>\n",
       "      <td>0</td>\n",
       "      <td>...</td>\n",
       "      <td>0</td>\n",
       "      <td>1</td>\n",
       "      <td>0</td>\n",
       "      <td>0</td>\n",
       "      <td>1</td>\n",
       "      <td>0</td>\n",
       "      <td>1</td>\n",
       "      <td>0</td>\n",
       "      <td>0</td>\n",
       "      <td>0</td>\n",
       "    </tr>\n",
       "  </tbody>\n",
       "</table>\n",
       "<p>430 rows × 22 columns</p>\n",
       "</div>"
      ],
      "text/plain": [
       "      age  hypertension  heart_disease  avg_glucose_level   bmi  stroke  \\\n",
       "0     8.0             0              0             110.89  17.6       0   \n",
       "1    66.0             0              0             141.24  28.5       0   \n",
       "2    78.0             1              0             218.46  34.3       0   \n",
       "3    52.0             0              0              82.24  54.7       0   \n",
       "4    44.0             0              0             107.41  47.3       0   \n",
       "..    ...           ...            ...                ...   ...     ...   \n",
       "425  68.0             1              1             247.51  40.5       1   \n",
       "426  57.0             0              0              84.96  36.7       1   \n",
       "427  14.0             0              0              57.93  30.9       1   \n",
       "428  75.0             0              0              78.80  29.3       1   \n",
       "429  78.0             0              0              78.81  19.6       1   \n",
       "\n",
       "     gender_Female  gender_Male  gender_Other  ever_married_No  ...  \\\n",
       "0                1            0             0                1  ...   \n",
       "1                1            0             0                0  ...   \n",
       "2                1            0             0                0  ...   \n",
       "3                1            0             0                0  ...   \n",
       "4                1            0             0                0  ...   \n",
       "..             ...          ...           ...              ...  ...   \n",
       "425              1            0             0                0  ...   \n",
       "426              0            1             0                0  ...   \n",
       "427              1            0             0                1  ...   \n",
       "428              1            0             0                0  ...   \n",
       "429              1            0             0                0  ...   \n",
       "\n",
       "     work_type_Never_worked  work_type_Private  work_type_Self-employed  \\\n",
       "0                         0                  1                        0   \n",
       "1                         0                  1                        0   \n",
       "2                         0                  1                        0   \n",
       "3                         0                  1                        0   \n",
       "4                         0                  1                        0   \n",
       "..                      ...                ...                      ...   \n",
       "425                       0                  1                        0   \n",
       "426                       0                  1                        0   \n",
       "427                       0                  0                        0   \n",
       "428                       0                  0                        1   \n",
       "429                       0                  1                        0   \n",
       "\n",
       "     work_type_children  Residence_type_Rural  Residence_type_Urban  \\\n",
       "0                     0                     0                     1   \n",
       "1                     0                     1                     0   \n",
       "2                     0                     0                     1   \n",
       "3                     0                     0                     1   \n",
       "4                     0                     1                     0   \n",
       "..                  ...                   ...                   ...   \n",
       "425                   0                     0                     1   \n",
       "426                   0                     1                     0   \n",
       "427                   1                     1                     0   \n",
       "428                   0                     1                     0   \n",
       "429                   0                     1                     0   \n",
       "\n",
       "     smoking_status_Unknown  smoking_status_formerly smoked  \\\n",
       "0                         1                               0   \n",
       "1                         0                               0   \n",
       "2                         0                               0   \n",
       "3                         0                               1   \n",
       "4                         0                               0   \n",
       "..                      ...                             ...   \n",
       "425                       0                               1   \n",
       "426                       1                               0   \n",
       "427                       1                               0   \n",
       "428                       0                               1   \n",
       "429                       1                               0   \n",
       "\n",
       "     smoking_status_never smoked  smoking_status_smokes  \n",
       "0                              0                      0  \n",
       "1                              1                      0  \n",
       "2                              1                      0  \n",
       "3                              0                      0  \n",
       "4                              1                      0  \n",
       "..                           ...                    ...  \n",
       "425                            0                      0  \n",
       "426                            0                      0  \n",
       "427                            0                      0  \n",
       "428                            0                      0  \n",
       "429                            0                      0  \n",
       "\n",
       "[430 rows x 22 columns]"
      ]
     },
     "execution_count": 207,
     "metadata": {},
     "output_type": "execute_result"
    }
   ],
   "source": [
    "new_df"
   ]
  },
  {
   "cell_type": "code",
   "execution_count": 208,
   "id": "0394a5b9",
   "metadata": {},
   "outputs": [],
   "source": [
    "new_df.to_csv(\"healthcare-dataset-stroke-data-cleaned-subsample.csv\", index = False)"
   ]
  },
  {
   "cell_type": "markdown",
   "id": "f822922e",
   "metadata": {},
   "source": [
    "### Read CSV"
   ]
  },
  {
   "cell_type": "code",
   "execution_count": 209,
   "id": "2b4a34e8",
   "metadata": {},
   "outputs": [],
   "source": [
    "##Subsample\n",
    "df = pd.read_csv(\"healthcare-dataset-stroke-data-cleaned-subsample.csv\")"
   ]
  },
  {
   "cell_type": "code",
   "execution_count": 214,
   "id": "faeda841",
   "metadata": {},
   "outputs": [],
   "source": [
    "X = df.drop('stroke', axis = 1)\n",
    "y = df.stroke.values"
   ]
  },
  {
   "cell_type": "code",
   "execution_count": 226,
   "id": "b1f446bd",
   "metadata": {},
   "outputs": [],
   "source": [
    "## Complete datase\n",
    "df1 = pd.read_csv(\"healthcare-dataset-stroke-data-cleaned.csv\")\n",
    "df_dum = pd.get_dummies(df1)\n",
    "X_real = df_dum.drop('stroke', axis = 1)\n",
    "y_real = df_dum.stroke.values"
   ]
  },
  {
   "cell_type": "code",
   "execution_count": 215,
   "id": "0731efcf",
   "metadata": {},
   "outputs": [],
   "source": [
    "X_train, X_test, y_train, y_test = train_test_split(X, y, test_size=0.2, random_state=42)"
   ]
  },
  {
   "cell_type": "code",
   "execution_count": 222,
   "id": "69a7daac",
   "metadata": {},
   "outputs": [],
   "source": [
    "def confmat(X,Y):\n",
    "    cm = confusion_matrix(X,Y)\n",
    "    ax = sns.heatmap(cm, annot=True, cmap='Blues')\n",
    "\n",
    "    ax.set_title('Seaborn Confusion Matrix with labels\\n\\n');\n",
    "    ax.set_xlabel('\\nPredicted Values')\n",
    "    ax.set_ylabel('Actual Values ');\n",
    "\n",
    "    ## Ticket labels - List must be in alphabetical order\n",
    "    ax.xaxis.set_ticklabels(['False','True'])\n",
    "    ax.yaxis.set_ticklabels(['False','True'])\n",
    "\n",
    "    ## Display the visualization of the Confusion Matrix.\n",
    "    plt.show()\n",
    "\n",
    "def metrics(y_test, y_pred):\n",
    "    print(\"Precision\")\n",
    "    print(precision_score(y_test, y_pred))\n",
    "    print(\"Recall\")\n",
    "    print(recall_score(y_test, y_pred))\n",
    "    print(\"F1 Score\")\n",
    "    print(f1_score(y_test, y_pred))\n",
    "    print(\"Accuracy\")\n",
    "    print(accuracy_score(y_test, y_pred))"
   ]
  },
  {
   "cell_type": "markdown",
   "id": "40cdf93c",
   "metadata": {},
   "source": [
    "### Logistic Regression Subsample"
   ]
  },
  {
   "cell_type": "code",
   "execution_count": 216,
   "id": "9f801a22",
   "metadata": {},
   "outputs": [
    {
     "data": {
      "text/plain": [
       "GridSearchCV(cv=5, estimator=LogisticRegression(),\n",
       "             param_grid={'multi_class': ('auto', 'ovr', 'multinomial'),\n",
       "                         'penalty': ('l1', 'l2', 'elasticnet', None),\n",
       "                         'solver': ('lbfgs', 'liblinear', 'newton-cg',\n",
       "                                    'newton-cholesky', 'sag', 'saga')})"
      ]
     },
     "execution_count": 216,
     "metadata": {},
     "output_type": "execute_result"
    }
   ],
   "source": [
    "LR = LogisticRegression()\n",
    "parameters = {'solver':('lbfgs', 'liblinear', 'newton-cg', 'newton-cholesky', 'sag', 'saga'), 'penalty':('l1', 'l2', 'elasticnet', None), 'multi_class':('auto', 'ovr', 'multinomial')}\n",
    "\n",
    "gs = GridSearchCV(LR, parameters, cv=5)\n",
    "\n",
    "gs.fit(X_train, y_train)"
   ]
  },
  {
   "cell_type": "code",
   "execution_count": 217,
   "id": "2d6715ff",
   "metadata": {},
   "outputs": [
    {
     "data": {
      "text/plain": [
       "0.7499147485080989"
      ]
     },
     "execution_count": 217,
     "metadata": {},
     "output_type": "execute_result"
    }
   ],
   "source": [
    "gs.best_score_"
   ]
  },
  {
   "cell_type": "code",
   "execution_count": 219,
   "id": "ca77d33c",
   "metadata": {},
   "outputs": [],
   "source": [
    "ypred_LR = gs.best_estimator_.predict(X_test)"
   ]
  },
  {
   "cell_type": "code",
   "execution_count": 221,
   "id": "6e1fcc2e",
   "metadata": {},
   "outputs": [
    {
     "data": {
      "image/png": "[encoded data removed]",
      "text/plain": [
       "<Figure size 432x288 with 2 Axes>"
      ]
     },
     "metadata": {
      "needs_background": "light"
     },
     "output_type": "display_data"
    }
   ],
   "source": [
    "confmat(y_test, ypred_LR)"
   ]
  },
  {
   "cell_type": "code",
   "execution_count": 223,
   "id": "6f2833c2",
   "metadata": {},
   "outputs": [
    {
     "name": "stdout",
     "output_type": "stream",
     "text": [
      "Precision\n",
      "0.7105263157894737\n",
      "Recall\n",
      "0.7941176470588235\n",
      "F1 Score\n",
      "0.7499999999999999\n",
      "Accuracy\n",
      "0.7906976744186046\n"
     ]
    }
   ],
   "source": [
    "metrics(y_test, ypred_LR)"
   ]
  },
  {
   "cell_type": "markdown",
   "id": "85981333",
   "metadata": {},
   "source": [
    "#### Complete dataset"
   ]
  },
  {
   "cell_type": "code",
   "execution_count": 229,
   "id": "1849ce4e",
   "metadata": {},
   "outputs": [],
   "source": [
    "ypred_LR_all = gs.best_estimator_.predict(X_real)"
   ]
  },
  {
   "cell_type": "code",
   "execution_count": 230,
   "id": "1cd2daf8",
   "metadata": {},
   "outputs": [
    {
     "data": {
      "image/png": "[encoded data removed]",
      "text/plain": [
       "<Figure size 432x288 with 2 Axes>"
      ]
     },
     "metadata": {
      "needs_background": "light"
     },
     "output_type": "display_data"
    }
   ],
   "source": [
    "confmat(y_real, ypred_LR_all)"
   ]
  },
  {
   "cell_type": "code",
   "execution_count": 231,
   "id": "6892971b",
   "metadata": {},
   "outputs": [
    {
     "name": "stdout",
     "output_type": "stream",
     "text": [
      "Precision\n",
      "0.12125534950071326\n",
      "Recall\n",
      "0.8133971291866029\n",
      "F1 Score\n",
      "0.2110490378646803\n",
      "Accuracy\n",
      "0.7385849444672974\n"
     ]
    }
   ],
   "source": [
    "metrics(y_real, ypred_LR_all)"
   ]
  },
  {
   "cell_type": "markdown",
   "id": "6148317d",
   "metadata": {},
   "source": [
    "### Suport Vector Machine Subsample"
   ]
  },
  {
   "cell_type": "code",
   "execution_count": 232,
   "id": "ba63b892",
   "metadata": {},
   "outputs": [
    {
     "data": {
      "text/plain": [
       "SVC(decision_function_shape='ovo', kernel='linear')"
      ]
     },
     "execution_count": 232,
     "metadata": {},
     "output_type": "execute_result"
    }
   ],
   "source": [
    "svm = SVC(decision_function_shape='ovo', kernel='linear')\n",
    "svm.fit(X_train, y_train)"
   ]
  },
  {
   "cell_type": "code",
   "execution_count": 233,
   "id": "9131daac",
   "metadata": {},
   "outputs": [],
   "source": [
    "ypred_svm = svm.predict(X_test)"
   ]
  },
  {
   "cell_type": "code",
   "execution_count": 234,
   "id": "19bb7528",
   "metadata": {},
   "outputs": [
    {
     "data": {
      "image/png": "[encoded data removed]",
      "text/plain": [
       "<Figure size 432x288 with 2 Axes>"
      ]
     },
     "metadata": {
      "needs_background": "light"
     },
     "output_type": "display_data"
    }
   ],
   "source": [
    "confmat(y_test, ypred_svm)"
   ]
  },
  {
   "cell_type": "code",
   "execution_count": 235,
   "id": "e71b6bbe",
   "metadata": {},
   "outputs": [
    {
     "name": "stdout",
     "output_type": "stream",
     "text": [
      "Precision\n",
      "0.7027027027027027\n",
      "Recall\n",
      "0.7647058823529411\n",
      "F1 Score\n",
      "0.7323943661971832\n",
      "Accuracy\n",
      "0.7790697674418605\n"
     ]
    }
   ],
   "source": [
    "metrics(y_test, ypred_svm)"
   ]
  },
  {
   "cell_type": "markdown",
   "id": "324b8030",
   "metadata": {},
   "source": [
    "#### Complete dataset"
   ]
  },
  {
   "cell_type": "code",
   "execution_count": 236,
   "id": "f80b3c92",
   "metadata": {},
   "outputs": [],
   "source": [
    "ypred_svm_all = svm.predict(X_real)"
   ]
  },
  {
   "cell_type": "code",
   "execution_count": 237,
   "id": "69552696",
   "metadata": {},
   "outputs": [
    {
     "data": {
      "image/png": "[encoded data removed]",
      "text/plain": [
       "<Figure size 432x288 with 2 Axes>"
      ]
     },
     "metadata": {
      "needs_background": "light"
     },
     "output_type": "display_data"
    }
   ],
   "source": [
    "confmat(y_real, ypred_svm_all)"
   ]
  },
  {
   "cell_type": "code",
   "execution_count": 238,
   "id": "425d2674",
   "metadata": {},
   "outputs": [
    {
     "name": "stdout",
     "output_type": "stream",
     "text": [
      "Precision\n",
      "0.11830985915492957\n",
      "Recall\n",
      "0.8038277511961722\n",
      "F1 Score\n",
      "0.20626151012891344\n",
      "Accuracy\n",
      "0.7340600575894694\n"
     ]
    }
   ],
   "source": [
    "metrics(y_real, ypred_svm_all)"
   ]
  },
  {
   "cell_type": "markdown",
   "id": "b98ac63a",
   "metadata": {},
   "source": [
    "### Random Forest Subsample"
   ]
  },
  {
   "cell_type": "code",
   "execution_count": 239,
   "id": "0b74a4e1",
   "metadata": {},
   "outputs": [],
   "source": [
    "RF = RandomForestClassifier()\n",
    "parameters = {'n_estimators':range(100,200,10), 'criterion':('gini', 'entropy', 'log_loss'), 'max_features':('sqrt', 'log2', None), 'class_weight':('balanced', 'balanced_subsample')}"
   ]
  },
  {
   "cell_type": "code",
   "execution_count": 240,
   "id": "26ee870c",
   "metadata": {},
   "outputs": [
    {
     "name": "stdout",
     "output_type": "stream",
     "text": [
      "Fitting 5 folds for each of 180 candidates, totalling 900 fits\n"
     ]
    },
    {
     "data": {
      "text/plain": [
       "GridSearchCV(cv=5, estimator=RandomForestClassifier(),\n",
       "             param_grid={'class_weight': ('balanced', 'balanced_subsample'),\n",
       "                         'criterion': ('gini', 'entropy', 'log_loss'),\n",
       "                         'max_features': ('sqrt', 'log2', None),\n",
       "                         'n_estimators': range(100, 200, 10)},\n",
       "             verbose=1)"
      ]
     },
     "execution_count": 240,
     "metadata": {},
     "output_type": "execute_result"
    }
   ],
   "source": [
    "gs = GridSearchCV(RF, parameters, cv=5, verbose=1)\n",
    "gs.fit(X_train,y_train)"
   ]
  },
  {
   "cell_type": "code",
   "execution_count": 241,
   "id": "75f46d3f",
   "metadata": {},
   "outputs": [
    {
     "data": {
      "text/plain": [
       "0.7644927536231885"
      ]
     },
     "execution_count": 241,
     "metadata": {},
     "output_type": "execute_result"
    }
   ],
   "source": [
    "gs.best_score_"
   ]
  },
  {
   "cell_type": "code",
   "execution_count": 242,
   "id": "95cfd1a9",
   "metadata": {},
   "outputs": [],
   "source": [
    "ypred_RF = gs.best_estimator_.predict(X_test)"
   ]
  },
  {
   "cell_type": "code",
   "execution_count": 243,
   "id": "4e88dd09",
   "metadata": {},
   "outputs": [
    {
     "data": {
      "image/png": "[encoded data removed]",
      "text/plain": [
       "<Figure size 432x288 with 2 Axes>"
      ]
     },
     "metadata": {
      "needs_background": "light"
     },
     "output_type": "display_data"
    }
   ],
   "source": [
    "confmat(y_test, ypred_RF)"
   ]
  },
  {
   "cell_type": "code",
   "execution_count": 244,
   "id": "9610aa21",
   "metadata": {},
   "outputs": [
    {
     "name": "stdout",
     "output_type": "stream",
     "text": [
      "Precision\n",
      "0.6666666666666666\n",
      "Recall\n",
      "0.7647058823529411\n",
      "F1 Score\n",
      "0.7123287671232877\n",
      "Accuracy\n",
      "0.7558139534883721\n"
     ]
    }
   ],
   "source": [
    "metrics(y_test, ypred_RF)"
   ]
  },
  {
   "cell_type": "markdown",
   "id": "991bcef4",
   "metadata": {},
   "source": [
    "### Complete dataset"
   ]
  },
  {
   "cell_type": "code",
   "execution_count": 245,
   "id": "aad98ff6",
   "metadata": {},
   "outputs": [],
   "source": [
    "ypred_RF_all = gs.best_estimator_.predict(X_real)"
   ]
  },
  {
   "cell_type": "code",
   "execution_count": 246,
   "id": "399571a5",
   "metadata": {},
   "outputs": [
    {
     "data": {
      "image/png": "[encoded data removed]",
      "text/plain": [
       "<Figure size 432x288 with 2 Axes>"
      ]
     },
     "metadata": {
      "needs_background": "light"
     },
     "output_type": "display_data"
    }
   ],
   "source": [
    "confmat(y_real, ypred_RF_all)"
   ]
  },
  {
   "cell_type": "code",
   "execution_count": 247,
   "id": "d0615749",
   "metadata": {},
   "outputs": [
    {
     "name": "stdout",
     "output_type": "stream",
     "text": [
      "Precision\n",
      "0.12507778469197262\n",
      "Recall\n",
      "0.9617224880382775\n",
      "F1 Score\n",
      "0.22136563876651982\n",
      "Accuracy\n",
      "0.709173179761415\n"
     ]
    }
   ],
   "source": [
    "metrics(y_real, ypred_RF_all)"
   ]
  }
 ],
 "metadata": {
  "kernelspec": {
   "display_name": "Python 3",
   "language": "python",
   "name": "python3"
  },
  "language_info": {
   "codemirror_mode": {
    "name": "ipython",
    "version": 3
   },
   "file_extension": ".py",
   "mimetype": "text/x-python",
   "name": "python",
   "nbconvert_exporter": "python",
   "pygments_lexer": "ipython3",
   "version": "3.8.8"
  }
 },
 "nbformat": 4,
 "nbformat_minor": 5
}
